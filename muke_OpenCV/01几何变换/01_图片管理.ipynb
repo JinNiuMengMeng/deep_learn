{
 "cells": [
  {
   "cell_type": "code",
   "execution_count": null,
   "metadata": {},
   "outputs": [],
   "source": [
    "# hello world输出"
   ]
  },
  {
   "cell_type": "code",
   "execution_count": 3,
   "metadata": {},
   "outputs": [
    {
     "name": "stdout",
     "output_type": "stream",
     "text": [
      "b'hello world'\n"
     ]
    }
   ],
   "source": [
    "import tensorflow as tf\n",
    "hello = tf.constant(\"hello world\")   # 定义一个常量\n",
    "sess = tf.Session()      # tf必须在session中运行, 所以定义一个session\n",
    "print(sess.run(hello))"
   ]
  },
  {
   "cell_type": "code",
   "execution_count": 1,
   "metadata": {},
   "outputs": [
    {
     "name": "stdout",
     "output_type": "stream",
     "text": [
      "done...\n"
     ]
    }
   ],
   "source": [
    "# 图片的读取\n",
    "# 1 文件的读取   2 封装格式解析    3 数据解码    4 数据加载\n",
    "# jpg png    1 文件头   2 文件数据\n",
    "import cv2\n",
    "img = cv2.imread(\"/home/ubuntu/Env/py3tf/bin/tf_study/picture/water.png\", 1)  # 第二个参数表示读取图片的类型, 0:表示灰度图片, 1:表示彩色图片\n",
    "cv2.imshow(\"image\", img)# 第一个参数:窗体的名称, 第二个参数:当前图片的内容\n",
    "cv2.waitKey(0)  # 显示图片必须暂停一下, 不然看不到效果\n",
    "print(\"done...\")"
   ]
  },
  {
   "cell_type": "code",
   "execution_count": 3,
   "metadata": {},
   "outputs": [
    {
     "data": {
      "text/plain": [
       "True"
      ]
     },
     "execution_count": 3,
     "metadata": {},
     "output_type": "execute_result"
    }
   ],
   "source": [
    "# 图片的写入\n",
    "import cv2\n",
    "img = cv2.imread(\"/home/ubuntu/Env/py3tf/bin/tf_study/picture/water.png\", 1) \n",
    "# 第一个参数为要写入的文件名, 第二个参数img为解码后的water.png图片数据, 原始数据\n",
    "cv2.imwrite(\"/home/ubuntu/Env/py3tf/bin/tf_study/picture/water_copy.png\", img)"
   ]
  },
  {
   "cell_type": "code",
   "execution_count": null,
   "metadata": {},
   "outputs": [],
   "source": [
    "# 图片质量\n",
    "import cv2\n",
    "img = cv2.imread(\"/home/ubuntu/Env/py3tf/bin/tf_study/picture/water.png\", 1)\n",
    "cv2.imwrite(\"/home/ubuntu/Env/py3tf/bin/tf_study/picture/water_copy.png\", img, [cv2.IMRITE])"
   ]
  },
  {
   "cell_type": "code",
   "execution_count": null,
   "metadata": {},
   "outputs": [],
   "source": [
    "import matplotlib.pyplot as plt\n",
    "import numpy as np\n",
    "\n",
    "x = np.array([1, 2, 3, 4, 5, 6, 7, 8])\n",
    "y = np.array([3, 5, 7, 6, 2, 6, 10, 15])\n",
    "plt.plot(x, y, 'r')  # 折线图(x轴坐标, y轴坐标, 颜色)"
   ]
  },
  {
   "cell_type": "code",
   "execution_count": 3,
   "metadata": {},
   "outputs": [
    {
     "data": {
      "image/png": "[encoded data removed]",
      "text/plain": [
       "<Figure size 432x288 with 1 Axes>"
      ]
     },
     "metadata": {
      "needs_background": "light"
     },
     "output_type": "display_data"
    }
   ],
   "source": [
    "import matplotlib.pyplot as plt\n",
    "import numpy as np\n",
    "x = np.array([1, 2, 3, 4, 5, 6, 7, 8])\n",
    "y = np.array([3, 5, 7, 6, 2, 6, 10, 15])\n",
    "plt.plot(x, y, 'r')  # 折线图(x轴坐标, y轴坐标, 颜色)\n",
    "plt.show()"
   ]
  },
  {
   "cell_type": "code",
   "execution_count": 1,
   "metadata": {},
   "outputs": [
    {
     "name": "stdout",
     "output_type": "stream",
     "text": [
      "img.shape: (170, 361, 3)\n",
      "dst.shape: (361, 170, 3)\n",
      "dstt.shape: (170, 361, 3)\n"
     ]
    },
    {
     "data": {
      "text/plain": [
       "32"
      ]
     },
     "execution_count": 1,
     "metadata": {},
     "output_type": "execute_result"
    }
   ],
   "source": [
    "import numpy as np\n",
    "import cv2\n",
    "\n",
    "# 读图\n",
    "img = cv2.imread('/home/ubuntu/PycharmProjects/tf_cv/pic/water.jpg', 1)\n",
    "\n",
    "# 展示图\n",
    "cv2.imshow('src', img)\n",
    "\n",
    "# 获取图片信息\n",
    "imgInfo = img.shape\n",
    "height = imgInfo[0]\n",
    "width = imgInfo[1]\n",
    "\n",
    "# 设置一个偏移矩阵 两行三列数据  含义:沿着x轴向右了100，沿着y轴向下了200\n",
    "matShift = np.float32([[1, 0, 100], [0, 1, 200]])  # 2*3\n",
    "\n",
    "# 目标图片warpAffine，完成矩阵的映射。\n",
    "# 参数1: 原图片 参数2: 移位矩阵 参数3: 当前图片的高宽\n",
    "dst = cv2.warpAffine(img, matShift, (height, width))  # 1 data 2 matshift 3 info\n",
    "# 移位 矩阵运算\n",
    "\n",
    "cv2.imshow('dst', dst)\n",
    "\n",
    "# 源码实现图片移位\n",
    "dstt = np.zeros(imgInfo, np.uint8)\n",
    "heightt = int(imgInfo[0])\n",
    "widthh = int(imgInfo[1])\n",
    "for i in range(0, heightt):\n",
    "    for j in range(0, widthh - 100):\n",
    "        dstt[i, j + 100] = img[i, j]\n",
    "cv2.imshow(\"dstt\", dstt)\n",
    "\n",
    "print(\"img.shape:\", img.shape)\n",
    "print(\"dst.shape:\", dst.shape)\n",
    "print(\"dstt.shape:\", dstt.shape)\n",
    "\n",
    "cv2.waitKey()\n"
   ]
  },
  {
   "cell_type": "code",
   "execution_count": null,
   "metadata": {},
   "outputs": [],
   "source": []
  }
 ],
 "metadata": {
  "kernelspec": {
   "display_name": "Python 3",
   "language": "python",
   "name": "python3"
  },
  "language_info": {
   "codemirror_mode": {
    "name": "ipython",
    "version": 3
   },
   "file_extension": ".py",
   "mimetype": "text/x-python",
   "name": "python",
   "nbconvert_exporter": "python",
   "pygments_lexer": "ipython3",
   "version": "3.6.5"
  }
 },
 "nbformat": 4,
 "nbformat_minor": 2
}
