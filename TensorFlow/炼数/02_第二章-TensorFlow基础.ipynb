{
 "cells": [
  {
   "cell_type": "markdown",
   "metadata": {},
   "source": [
    "# 第二章 `TensorFlow` 基础"
   ]
  },
  {
   "cell_type": "markdown",
   "metadata": {},
   "source": [
    "## 2-1 TensorFlow基本概念"
   ]
  },
  {
   "cell_type": "markdown",
   "metadata": {},
   "source": [
    "### 2-1-1 认识 `TensorFlow`"
   ]
  },
  {
   "cell_type": "markdown",
   "metadata": {},
   "source": [
    "- 使用图 `graphs` 来表示计算任务\n",
    "- 在被称之为会话 `Session` 的上下文 `context` 中执行图\n",
    "- 使用 `tensor` 表示数据\n",
    "- 通过变量 `Variable` 维护状态\n",
    "- 使用 `feed` 和 `fetch` 可以为任意的操作赋值或者从其中获取数据"
   ]
  },
  {
   "cell_type": "markdown",
   "metadata": {},
   "source": [
    "`TensorFlow` 是一个变成系统, 使用图 `Graphs` 来表示计算任务, 图 `Graphs` 中的节点称之为 `op`(`operation`), 一个 `op` 获得 `0` 个或者多个 `Tensor`, 执行计算, 产生 `0` 个或者多个 `Tensor`. `Tensor` 看做是一个 `n` 维的数组或列表, 图必须在回话(`Session`)里被启动."
   ]
  },
  {
   "cell_type": "markdown",
   "metadata": {},
   "source": [
    "### 2-1-2 `TensorFlow` 的结构"
   ]
  },
  {
   "cell_type": "markdown",
   "metadata": {},
   "source": [
    "![](picture/2-1-2-1.png)"
   ]
  },
  {
   "cell_type": "markdown",
   "metadata": {},
   "source": [
    "### 2-1-3 创建图-启动图"
   ]
  },
  {
   "cell_type": "code",
   "execution_count": 12,
   "metadata": {},
   "outputs": [],
   "source": [
    "import tensorflow as tf"
   ]
  },
  {
   "cell_type": "code",
   "execution_count": 13,
   "metadata": {},
   "outputs": [
    {
     "name": "stdout",
     "output_type": "stream",
     "text": [
      "Tensor(\"Const_6:0\", shape=(1, 2), dtype=int32)\n",
      "Tensor(\"Const_7:0\", shape=(2, 1), dtype=int32)\n"
     ]
    }
   ],
   "source": [
    "# 创建常量 op, m1与m2\n",
    "m1 = tf.constant([[3, 3]])\n",
    "m2 = tf.constant([[2], [3]])\n",
    "print(m1)\n",
    "print(m2)"
   ]
  },
  {
   "cell_type": "code",
   "execution_count": 14,
   "metadata": {},
   "outputs": [
    {
     "name": "stdout",
     "output_type": "stream",
     "text": [
      "Tensor(\"MatMul_2:0\", shape=(1, 1), dtype=int32)\n"
     ]
    }
   ],
   "source": [
    "# 创建一个矩阵乘法op, 把m1和m2传入, 得到一个Tensor\n",
    "product = tf.matmul(m1, m2)\n",
    "print(product)"
   ]
  },
  {
   "cell_type": "markdown",
   "metadata": {},
   "source": [
    "**方法一: 直接定义会话**"
   ]
  },
  {
   "cell_type": "code",
   "execution_count": 15,
   "metadata": {},
   "outputs": [
    {
     "name": "stdout",
     "output_type": "stream",
     "text": [
      "[[15]]\n"
     ]
    }
   ],
   "source": [
    "# 定义一个会话, 启动默认图\n",
    "sess = tf.Session()\n",
    "# 调用sess中的run方法来执行矩阵乘法op\n",
    "# run 方法触发了图中的三个op\n",
    "result = sess.run(product)\n",
    "print(result)\n",
    "# 关闭会话\n",
    "sess.close()"
   ]
  },
  {
   "cell_type": "markdown",
   "metadata": {},
   "source": [
    "**方法二: 使用 `with...as...` 语句定义会话**"
   ]
  },
  {
   "cell_type": "code",
   "execution_count": 16,
   "metadata": {},
   "outputs": [
    {
     "name": "stdout",
     "output_type": "stream",
     "text": [
      "[[15]]\n"
     ]
    }
   ],
   "source": [
    "with tf.Session() as sess:\n",
    "    result = sess.run(product)\n",
    "    print(result)"
   ]
  },
  {
   "cell_type": "markdown",
   "metadata": {},
   "source": [
    "## 2-2 `TensorFlow` 变量的使用"
   ]
  },
  {
   "cell_type": "code",
   "execution_count": 17,
   "metadata": {},
   "outputs": [],
   "source": [
    "import tensorflow as tf"
   ]
  },
  {
   "cell_type": "code",
   "execution_count": 21,
   "metadata": {},
   "outputs": [
    {
     "name": "stdout",
     "output_type": "stream",
     "text": [
      "<tf.Variable 'Variable_3:0' shape=(2,) dtype=int32_ref>\n",
      "Tensor(\"Const_8:0\", shape=(2,), dtype=int32)\n"
     ]
    }
   ],
   "source": [
    "x = tf.Variable([1, 2])  # 定义一个变量 x\n",
    "a = tf.constant([3, 3])  # 定义一个常量 a\n",
    "print(x)\n",
    "print(a)"
   ]
  },
  {
   "cell_type": "code",
   "execution_count": 26,
   "metadata": {},
   "outputs": [
    {
     "name": "stdout",
     "output_type": "stream",
     "text": [
      "Tensor(\"Sub_4:0\", shape=(2,), dtype=int32)\n",
      "Tensor(\"Add_4:0\", shape=(2,), dtype=int32)\n",
      "x - a = [-2 -1]\n",
      "x + a = [4 5]\n"
     ]
    }
   ],
   "source": [
    "# 增加一个减法 op\n",
    "sub = tf.subtract(x, a)\n",
    "print(sub)\n",
    "\n",
    "# 增加一个加法 op\n",
    "add = tf.add(x, a)\n",
    "print(add)\n",
    "\n",
    "init = tf.global_variables_initializer()\n",
    "\n",
    "with tf.Session() as sess:\n",
    "    sess.run(init)\n",
    "    print(\"x - a =\", sess.run(sub))\n",
    "    print(\"x + a =\", sess.run(add))"
   ]
  },
  {
   "cell_type": "markdown",
   "metadata": {},
   "source": [
    "**`TensorFlow` 简单使用**"
   ]
  },
  {
   "cell_type": "code",
   "execution_count": 32,
   "metadata": {},
   "outputs": [
    {
     "name": "stdout",
     "output_type": "stream",
     "text": [
      "0\n",
      "1\n",
      "2\n",
      "3\n",
      "4\n",
      "5\n"
     ]
    }
   ],
   "source": [
    "# 创建一个变量, 初始化为 0, name=\"counter\"\n",
    "state = tf.Variable(0, name=\"counter\")\n",
    "# 创建一个 op, 作用是使用 state 加1 \n",
    "new_value = tf.add(state, 1)\n",
    "# 赋值 op (将新的 new_value 赋值给 state)\n",
    "update = tf.assign(state, new_value)\n",
    "# 变量初始化\n",
    "init = tf.global_variables_initializer()\n",
    "\n",
    "with tf.Session() as sess:\n",
    "    sess.run(init)\n",
    "    print(sess.run(state))\n",
    "    for _ in range(5):\n",
    "        sess.run(update)\n",
    "        print(sess.run(state))"
   ]
  },
  {
   "cell_type": "markdown",
   "metadata": {},
   "source": [
    "## 2-3 `Fetch and Feed`"
   ]
  },
  {
   "cell_type": "markdown",
   "metadata": {},
   "source": [
    "`Fetch` 在会话中可以执行多个 `op`, 等到它运行的结果"
   ]
  },
  {
   "cell_type": "code",
   "execution_count": 33,
   "metadata": {},
   "outputs": [],
   "source": [
    "# 定义三个常量\n",
    "input1 = tf.constant(3.0)\n",
    "input2 = tf.constant(2.0)\n",
    "input3 = tf.constant(5.0)"
   ]
  },
  {
   "cell_type": "code",
   "execution_count": 34,
   "metadata": {},
   "outputs": [
    {
     "name": "stdout",
     "output_type": "stream",
     "text": [
      "[21.0, 7.0]\n"
     ]
    }
   ],
   "source": [
    "add = tf.add(input2, input3)\n",
    "mul = tf.multiply(input1, add)\n",
    "\n",
    "with tf.Session() as sess:\n",
    "    result = sess.run([mul, add])\n",
    "    print(result)"
   ]
  },
  {
   "cell_type": "markdown",
   "metadata": {},
   "source": [
    "`Feed` 的数据以字典的形式传入"
   ]
  },
  {
   "cell_type": "code",
   "execution_count": 37,
   "metadata": {
    "scrolled": true
   },
   "outputs": [
    {
     "name": "stdout",
     "output_type": "stream",
     "text": [
      "[14.]\n"
     ]
    }
   ],
   "source": [
    "# 创建占位符\n",
    "input1 = tf.placeholder(tf.float32)\n",
    "input2 = tf.placeholder(tf.float32)\n",
    "\n",
    "# 定义一个乘法 op, 但是并不知道input1与input2的值\n",
    "output = tf.multiply(input1, input2)\n",
    "\n",
    "with tf.Session() as sess:\n",
    "    print(sess.run(output, feed_dict={input1:[7.0], input2:[2.0]}))"
   ]
  },
  {
   "cell_type": "markdown",
   "metadata": {},
   "source": [
    "## 2-4 `TensorFlow` 简单实用案例"
   ]
  },
  {
   "cell_type": "code",
   "execution_count": 59,
   "metadata": {},
   "outputs": [],
   "source": [
    "import numpy as np\n",
    "import tensorflow as tf\n",
    "import matplotlib.pyplot as plt"
   ]
  },
  {
   "cell_type": "code",
   "execution_count": 83,
   "metadata": {},
   "outputs": [
    {
     "name": "stdout",
     "output_type": "stream",
     "text": [
      "0 [0.050356485, 0.09896989]\n",
      "20 [0.1008236, 0.19958039]\n",
      "40 [0.100471094, 0.19976005]\n",
      "60 [0.10026942, 0.19986278]\n",
      "80 [0.1001541, 0.1999215]\n",
      "100 [0.100088134, 0.1999551]\n",
      "120 [0.10005041, 0.19997433]\n",
      "140 [0.100028835, 0.19998531]\n",
      "160 [0.10001649, 0.1999916]\n",
      "180 [0.10000944, 0.19999519]\n",
      "200 [0.1000054, 0.19999725]\n"
     ]
    }
   ],
   "source": [
    "# 使用 numpy 生成100个随机点\n",
    "x_data = np.random.rand(100)\n",
    "y_data = x_data * 0.1 + 0.2 \n",
    "\n",
    "# 构造一个线性模型\n",
    "b = tf.Variable(0.0)  # 截距\n",
    "k = tf.Variable(0.0)  # 斜率\n",
    "y = k * x_data + b\n",
    "\n",
    "# 二次代价函数\n",
    "loss = tf.reduce_mean(tf.square(y_data -y))\n",
    "# 定义一个梯度下降法来进行训练的优化器\n",
    "optimizer = tf.train.GradientDescentOptimizer(0.2)\n",
    "# 最小化代价函数\n",
    "train = optimizer.minimize(loss)\n",
    "# 初始化变量\n",
    "init = tf.global_variables_initializer()\n",
    "\n",
    "with tf.Session() as sess:\n",
    "    sess.run(init)\n",
    "    for step in range(201):\n",
    "        sess.run(train)\n",
    "        if step % 20 == 0:\n",
    "            print(step, sess.run([k, b]))"
   ]
  },
  {
   "cell_type": "code",
   "execution_count": null,
   "metadata": {},
   "outputs": [],
   "source": []
  }
 ],
 "metadata": {
  "kernelspec": {
   "display_name": "Python 3",
   "language": "python",
   "name": "python3"
  },
  "language_info": {
   "codemirror_mode": {
    "name": "ipython",
    "version": 3
   },
   "file_extension": ".py",
   "mimetype": "text/x-python",
   "name": "python",
   "nbconvert_exporter": "python",
   "pygments_lexer": "ipython3",
   "version": "3.6.7"
  }
 },
 "nbformat": 4,
 "nbformat_minor": 2
}
