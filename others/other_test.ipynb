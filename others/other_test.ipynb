{
 "cells": [
  {
   "cell_type": "code",
   "execution_count": 38,
   "metadata": {},
   "outputs": [
    {
     "name": "stdout",
     "output_type": "stream",
     "text": [
      "CPU times: user 5.13 s, sys: 115 ms, total: 5.25 s\n",
      "Wall time: 5.25 s\n"
     ]
    }
   ],
   "source": [
    "import pandas as pd\n",
    "def mysort():\n",
    "    data = pd.read_table('/home/ubuntu/Documents/ICAR_ORDERINFO.txt', encoding='utf-8', sep=\";\")\n",
    "    data.sort_values(\"ICARFEE\",inplace=True)\n",
    "    data[[\"ACCOUNTNO\", \"ICARFEE\"]].to_csv(\"/home/ubuntu/Documents/ICAR_ORDERINFO.csv\",index=False,sep=';')\n",
    "\n",
    "%time mysort()"
   ]
  },
  {
   "cell_type": "code",
   "execution_count": null,
   "metadata": {},
   "outputs": [],
   "source": []
  }
 ],
 "metadata": {
  "kernelspec": {
   "display_name": "Python 3",
   "language": "python",
   "name": "python3"
  },
  "language_info": {
   "codemirror_mode": {
    "name": "ipython",
    "version": 3
   },
   "file_extension": ".py",
   "mimetype": "text/x-python",
   "name": "python",
   "nbconvert_exporter": "python",
   "pygments_lexer": "ipython3",
   "version": "3.6.5"
  }
 },
 "nbformat": 4,
 "nbformat_minor": 2
}
