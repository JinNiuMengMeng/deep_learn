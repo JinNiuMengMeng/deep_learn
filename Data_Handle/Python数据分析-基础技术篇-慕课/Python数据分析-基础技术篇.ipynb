{
 "cells": [
  {
   "cell_type": "markdown",
   "metadata": {},
   "source": [
    "# Python数据分析-基础技术篇"
   ]
  },
  {
   "cell_type": "markdown",
   "metadata": {},
   "source": [
    "## 第二章 `numpy`"
   ]
  },
  {
   "cell_type": "code",
   "execution_count": 2,
   "metadata": {},
   "outputs": [],
   "source": [
    "import numpy as np"
   ]
  },
  {
   "cell_type": "markdown",
   "metadata": {},
   "source": [
    "### 2-2 `ndarray`"
   ]
  },
  {
   "cell_type": "code",
   "execution_count": 3,
   "metadata": {},
   "outputs": [
    {
     "name": "stdout",
     "output_type": "stream",
     "text": [
      "type(lst): <class 'list'>\n",
      "type(np_lst): <class 'numpy.ndarray'>\n",
      "np_lst.shape: (2, 3)\n",
      "np_lst.ndim: 2\n",
      "np_lst.dtype: float64\n",
      "np_lst.itemsize: 8\n",
      "np_lst.size: 6\n",
      "np_lst.nbytes: 48\n",
      "np_lst.T: [[1. 2.]\n",
      " [3. 4.]\n",
      " [5. 6.]]\n"
     ]
    }
   ],
   "source": [
    "def numpy_base():\n",
    "    lst = [[1, 3, 5], [2, 4, 6]]  # 定义 list\n",
    "    print(\"type(lst):\", type(lst))\n",
    "    \n",
    "    np_lst = np.array(lst, dtype=np.float)  # 根据 list 定义 ndarray, 并指定所有元素的类型\n",
    "    print(\"type(np_lst):\", type(np_lst))\n",
    "    \n",
    "    print(\"np_lst.shape:\", np_lst.shape)    # 各个维度的长度, 是一个元组\n",
    "    print(\"np_lst.ndim:\", np_lst.ndim)      # 维度数量\n",
    "    print(\"np_lst.dtype:\", np_lst.dtype)    # 元素的类型\n",
    "    print(\"np_lst.itemsize:\", np_lst.itemsize)  # 每个元素的大小, 以字节为单位\n",
    "    print(\"np_lst.size:\", np_lst.size)      # 元素的总个数\n",
    "    print(\"np_lst.nbytes:\", np_lst.nbytes)  # 所有数据占用的大小, 字节为单位, 等于a.size*a.itemsize\n",
    "    print(\"np_lst.T:\", np_lst.T)            # 转置后的np_lst, 非原地\n",
    "numpy_base()"
   ]
  },
  {
   "cell_type": "markdown",
   "metadata": {},
   "source": [
    "### 2-3 `numpy ` 常用 `Array`"
   ]
  },
  {
   "cell_type": "code",
   "execution_count": 4,
   "metadata": {
    "scrolled": false
   },
   "outputs": [
    {
     "name": "stdout",
     "output_type": "stream",
     "text": [
      "生成 2x4 的 1 矩阵: np.ones([2, 4])\n",
      "[[1. 1. 1. 1.]\n",
      " [1. 1. 1. 1.]]\n",
      "\n",
      "生成 2x4 的 0 矩阵: np.zeros([2, 4])\n",
      "[[0. 0. 0. 0.]\n",
      " [0. 0. 0. 0.]]\n",
      "\n",
      "生成 2x4 的随机数矩阵(0-1之间均匀的随机数), 不传参数的话只返回一个随机数: np.random.rand([2, 4])\n",
      "[[0.87272231 0.43267755 0.3532423  0.84643837]\n",
      " [0.76006152 0.29979475 0.21742728 0.70551145]]\n",
      "\n",
      "生成 2x4 的随机数矩阵(0-10之间均匀的随机整数), 必须传递生成整数的范围: np.random.randint(1, 10, size=(2, 4))\n",
      "[[6 6 5 4]\n",
      " [7 9 6 8]]\n",
      "\n",
      "生成 2x4 标准正太分布矩阵(不传参数生成一个): np.random.randn(2, 4)\n",
      "[[ 0.20842617  0.72437638  1.05359238  0.72724635]\n",
      " [-2.06463852 -2.35177133  1.02697933  1.82067296]]\n",
      "\n",
      "从已知的列表中选择一个随机数: np.random.choice([11, 22, 33, 44, 55])\n",
      "44\n",
      "\n",
      "产生beta分布的样本值，参数必须大于0: np.random.beta(1, 10, 10)\n",
      "[0.07913302 0.00053905 0.03458746 0.33089653 0.01189816 0.17460411\n",
      " 0.12736343 0.10038249 0.14709824 0.00670707]\n"
     ]
    }
   ],
   "source": [
    "def numpy_array():\n",
    "    print(\"生成 2x4 的 1 矩阵: \" + \"np.ones([2, 4])\")\n",
    "    print(np.ones([2, 4]))\n",
    "    \n",
    "    print(\"\\n生成 2x4 的 0 矩阵: \" + \"np.zeros([2, 4])\")\n",
    "    print(np.zeros([2, 4]))\n",
    "    \n",
    "    print(\"\\n生成 2x4 的随机数矩阵(0-1之间均匀的随机数), 不传参数的话只返回一个随机数: \" + \"np.random.rand([2, 4])\")\n",
    "    print(np.random.rand(2, 4))\n",
    "        \n",
    "    print(\"\\n生成 2x4 的随机数矩阵(0-10之间均匀的随机整数), 必须传递生成整数的范围: \" + \"np.random.randint(1, 10, size=(2, 4))\")\n",
    "    print(np.random.randint(1, 10, size=(2, 4)))\n",
    "    \n",
    "    print(\"\\n生成 2x4 标准正太分布矩阵(不传参数生成一个): \" + \"np.random.randn(2, 4)\")\n",
    "    print(np.random.randn(2, 4))\n",
    "    \n",
    "    print(\"\\n从已知的列表中选择一个随机数: \" + \"np.random.choice([11, 22, 33, 44, 55])\")\n",
    "    print(np.random.choice([11, 22, 33, 44, 55]))\n",
    "    \n",
    "    print(\"\\n产生beta分布的样本值，参数必须大于0: \" + \"np.random.beta(1, 10, 10)\")\n",
    "    print(np.random.beta(1, 10, 10))\n",
    "numpy_array()"
   ]
  },
  {
   "cell_type": "markdown",
   "metadata": {},
   "source": [
    "### 2-4 `numpy` 常用操作"
   ]
  },
  {
   "cell_type": "code",
   "execution_count": 5,
   "metadata": {
    "scrolled": false
   },
   "outputs": [
    {
     "name": "stdout",
     "output_type": "stream",
     "text": [
      "np.arange(1, 11) 类似range, 但返回ndarray类型: \n",
      "[[ 1  2  3  4  5]\n",
      " [ 6  7  8  9 10]]\n",
      "\n",
      "求数组各元素的绝对值 np.abs(x): \n",
      "[[ 1  2  3  4  5]\n",
      " [ 6  7  8  9 10]]\n",
      "\n",
      "求数组各元素的绝对值 np.fabs(x): \n",
      "[[ 1.  2.  3.  4.  5.]\n",
      " [ 6.  7.  8.  9. 10.]]\n",
      "\n",
      "求数组各元素的平方根 np.sqrt(x): \n",
      "[[1.         1.41421356 1.73205081 2.         2.23606798]\n",
      " [2.44948974 2.64575131 2.82842712 3.         3.16227766]]\n",
      "\n",
      "求数组各元素的平方 np.square(x): \n",
      "[[  1   4   9  16  25]\n",
      " [ 36  49  64  81 100]]\n",
      "\n",
      "求数组各元素的自然对数 np.log(x): \n",
      "[[0.         0.69314718 1.09861229 1.38629436 1.60943791]\n",
      " [1.79175947 1.94591015 2.07944154 2.19722458 2.30258509]]\n",
      "\n",
      "求数组各元素的2底对数 np.log2(x): \n",
      "[[0.         1.         1.5849625  2.         2.32192809]\n",
      " [2.5849625  2.80735492 3.         3.169925   3.32192809]]\n",
      "\n",
      "求数组各元素的10底对数 np.log10(x): \n",
      "[[0.         0.30103    0.47712125 0.60205999 0.69897   ]\n",
      " [0.77815125 0.84509804 0.90308999 0.95424251 1.        ]]\n",
      "\n",
      "求数组各元素的ceiling值 np.ceil(x): \n",
      "[[ 1.  2.  3.  4.  5.]\n",
      " [ 6.  7.  8.  9. 10.]]\n",
      "\n",
      "求数组各元素的floor值 np.floor(x): \n",
      "[[ 1.  2.  3.  4.  5.]\n",
      " [ 6.  7.  8.  9. 10.]]\n",
      "\n",
      "求数组各元素的四舍五入值 np.rint(x): \n",
      "[[ 1.  2.  3.  4.  5.]\n",
      " [ 6.  7.  8.  9. 10.]]\n",
      "\n",
      "将数组各元素的整数和小数部分以两个独立数组形式返回 np.modf(x): \n",
      "(array([[0., 0., 0., 0., 0.],\n",
      "       [0., 0., 0., 0., 0.]]), array([[ 1.,  2.,  3.,  4.,  5.],\n",
      "       [ 6.,  7.,  8.,  9., 10.]]))\n",
      "\n",
      "求数组各元素的cos值 np.cos(x): \n",
      "[[ 0.54030231 -0.41614684 -0.9899925  -0.65364362  0.28366219]\n",
      " [ 0.96017029  0.75390225 -0.14550003 -0.91113026 -0.83907153]]\n",
      "\n",
      "求数组各元素的sin值 np.sin(x): \n",
      "[[ 0.84147098  0.90929743  0.14112001 -0.7568025  -0.95892427]\n",
      " [-0.2794155   0.6569866   0.98935825  0.41211849 -0.54402111]]\n",
      "\n",
      "求数组各元素的tan值 np.tan(x): \n",
      "[[ 1.55740772 -2.18503986 -0.14254654  1.15782128 -3.38051501]\n",
      " [-0.29100619  0.87144798 -6.79971146 -0.45231566  0.64836083]]\n",
      "\n",
      "求数组各元素的e^n值 np.exp(x): \n",
      "[[2.71828183e+00 7.38905610e+00 2.00855369e+01 5.45981500e+01\n",
      "  1.48413159e+02]\n",
      " [4.03428793e+02 1.09663316e+03 2.98095799e+03 8.10308393e+03\n",
      "  2.20264658e+04]]\n",
      "\n",
      "求数组各元素的符号值, 1(+), 0, -1(-) np.sign(x): \n",
      "[[1 1 1 1 1]\n",
      " [1 1 1 1 1]]\n",
      "\n",
      "定义(3, 2, 4)的矩阵 lst.shape: (3, 2, 4)\n",
      "[[[ 1  2  3  4]\n",
      "  [ 4  5  6  7]]\n",
      "\n",
      " [[ 7  8  9 10]\n",
      "  [11 12 13 14]]\n",
      "\n",
      " [[15 16 17 18]\n",
      "  [19 20 21 22]]]\n",
      "\n",
      "lst 所有元素和 lst.sum(): 264\n",
      "\n",
      "lst 在 axis=0 的方向上所有元素和(最外层元素依次相加, 得到 2x4 的矩阵) lst.sum(axis=0):\n",
      "计算过程:\n",
      "    [[1+7+15, 2+8+16, 3+9+17, 4+10+18], \n",
      "    [4+11+19, 5+12+20, 6+13+21, 7+14+22]]\n",
      "[[23 26 29 32]\n",
      " [34 37 40 43]]\n",
      "\n",
      "lst 在 axis=1 的方向上所有元素和(中间层元素依次相加, 得到 3x4 的矩阵) lst.sum(axis=1):\n",
      "计算过程:\n",
      "    [[1+4, 2+5, 3+6, 4+7], \n",
      "    [7+11, 8+12, 9+13, 10+14], \n",
      "    [15+19, 16+20, 17+21, 18+22]]\n",
      "[[ 5  7  9 11]\n",
      " [18 20 22 24]\n",
      " [34 36 38 40]]\n",
      "\n",
      "lst 在 axis=2 的方向上所有元素和(最内层元素依次相加, 得到 3x2 的矩阵) lst.sum(axis=2):\n",
      "计算过程:\n",
      "    [[1+2+3+4, 4+5+6+7], \n",
      "    [7+8+9+10, 11+12+13+14], \n",
      "    [15+16+17+18, 19+20+21+22]]\n",
      "[[10 22]\n",
      " [34 50]\n",
      " [66 82]]\n",
      "\n",
      "lst 中的最大值: 22\n",
      "\n",
      "在 axis=0 的方向上的最大值 lst.max(axis=0):\n",
      "[[15 16 17 18]\n",
      " [19 20 21 22]]\n",
      "\n",
      "在 axis=1 的方向上的最大值 lst.max(axis=1):\n",
      "[[ 4  5  6  7]\n",
      " [11 12 13 14]\n",
      " [19 20 21 22]]\n",
      "\n",
      "在 axis=2 的方向上的最大值 lst.max(axis=2):\n",
      "[[ 4  7]\n",
      " [10 14]\n",
      " [18 22]]\n",
      "\n",
      "定义lst1:\n",
      "[10 20 30 40]\n",
      "定义lst2:\n",
      "[4 2 3 1]\n",
      "\n",
      "lst1 + lst2:\n",
      "[14 22 33 41]\n",
      "\n",
      "lst1 - lst2:\n",
      "[ 6 18 27 39]\n",
      "\n",
      "lst1 * lst2:\n",
      "[40 40 90 40]\n",
      "\n",
      "lst1 / lst2:\n",
      "[ 2.5 10.  10.  40. ]\n",
      "\n",
      "Square  lst1**2:\n",
      "[ 100  400  900 1600]\n",
      "\n",
      "两个矩阵的点乘lst1.dot(lst2):\n",
      "210\n",
      "\n",
      "axis=0方向上连接两个lst: np.concatenate((lst1, lst2), axis=0):\n",
      "[10 20 30 40  4  2  3  1]\n",
      "\n",
      "vstack连接lst1与lst2\n",
      "[[10 20 30 40]\n",
      " [ 4  2  3  1]]\n",
      "\n",
      "hstack连接lst1与lst2\n",
      "[10 20 30 40  4  2  3  1]\n",
      "\n",
      "将lst1分割为四份 np.split(lst1, 4):\n",
      "[array([10]), array([20]), array([30]), array([40])]\n"
     ]
    }
   ],
   "source": [
    "def numpy_handle():\n",
    "    print(\"np.arange(1, 11) 类似range, 但返回ndarray类型: \")\n",
    "    print(np.arange(1, 11).reshape(2, 5))\n",
    "    \n",
    "    lst = np.arange(1, 11).reshape(2, 5)\n",
    "    \n",
    "    print(\"\\n求数组各元素的绝对值 np.abs(x): \")\n",
    "    print(np.abs(lst))\n",
    "    \n",
    "    print(\"\\n求数组各元素的绝对值 np.fabs(x): \")\n",
    "    print(np.fabs(lst))\n",
    "    \n",
    "    print(\"\\n求数组各元素的平方根 np.sqrt(x): \")\n",
    "    print(np.sqrt(lst))\n",
    "    \n",
    "    print(\"\\n求数组各元素的平方 np.square(x): \")\n",
    "    print(np.square(lst))\n",
    "    \n",
    "    print(\"\\n求数组各元素的自然对数 np.log(x): \")\n",
    "    print(np.log(lst))\n",
    "\n",
    "    print(\"\\n求数组各元素的2底对数 np.log2(x): \")\n",
    "    print(np.log2(lst))\n",
    "\n",
    "    print(\"\\n求数组各元素的10底对数 np.log10(x): \")\n",
    "    print(np.log10(lst))\n",
    "\n",
    "    print(\"\\n求数组各元素的ceiling值 np.ceil(x): \")\n",
    "    print(np.ceil(lst))\n",
    "\n",
    "    print(\"\\n求数组各元素的floor值 np.floor(x): \")\n",
    "    print(np.floor(lst))\n",
    "\n",
    "    print(\"\\n求数组各元素的四舍五入值 np.rint(x): \")\n",
    "    print(np.rint(lst))\n",
    "\n",
    "    print(\"\\n将数组各元素的整数和小数部分以两个独立数组形式返回 np.modf(x): \")\n",
    "    print(np.modf(lst))\n",
    "\n",
    "    print(\"\\n求数组各元素的cos值 np.cos(x): \")\n",
    "    print(np.cos(lst))\n",
    "    \n",
    "    print(\"\\n求数组各元素的sin值 np.sin(x): \")\n",
    "    print(np.sin(lst))\n",
    "        \n",
    "    print(\"\\n求数组各元素的tan值 np.tan(x): \")\n",
    "    print(np.tan(lst))\n",
    "            \n",
    "    print(\"\\n求数组各元素的e^n值 np.exp(x): \")\n",
    "    print(np.exp(lst))\n",
    "                \n",
    "    print(\"\\n求数组各元素的符号值, 1(+), 0, -1(-) np.sign(x): \")\n",
    "    print(np.sign(lst))\n",
    "\n",
    "    lst = np.array([\n",
    "        [[1, 2, 3, 4], [4, 5, 6, 7]],\n",
    "        [[7, 8, 9, 10], [11, 12, 13, 14]],\n",
    "        [[15, 16, 17, 18], [19, 20, 21, 22]]\n",
    "    ])\n",
    "    \n",
    "    print(\"\\n定义(3, 2, 4)的矩阵 lst.shape:\", lst.shape)\n",
    "    print(lst)\n",
    "    print(\"\\nlst 所有元素和 lst.sum():\", lst.sum())\n",
    "    \n",
    "    print(\"\\nlst 在 axis=0 的方向上所有元素和(最外层元素依次相加, 得到 2x4 的矩阵) lst.sum(axis=0):\")\n",
    "    print(\"\"\"计算过程:\n",
    "    [[1+7+15, 2+8+16, 3+9+17, 4+10+18], \n",
    "    [4+11+19, 5+12+20, 6+13+21, 7+14+22]]\"\"\")\n",
    "    print(lst.sum(axis=0))\n",
    "    \n",
    "    print(\"\\nlst 在 axis=1 的方向上所有元素和(中间层元素依次相加, 得到 3x4 的矩阵) lst.sum(axis=1):\")\n",
    "    print(\"\"\"计算过程:\n",
    "    [[1+4, 2+5, 3+6, 4+7], \n",
    "    [7+11, 8+12, 9+13, 10+14], \n",
    "    [15+19, 16+20, 17+21, 18+22]]\"\"\")\n",
    "    print(lst.sum(axis=1))\n",
    "    \n",
    "    print(\"\\nlst 在 axis=2 的方向上所有元素和(最内层元素依次相加, 得到 3x2 的矩阵) lst.sum(axis=2):\")\n",
    "    print(\"\"\"计算过程:\n",
    "    [[1+2+3+4, 4+5+6+7], \n",
    "    [7+8+9+10, 11+12+13+14], \n",
    "    [15+16+17+18, 19+20+21+22]]\"\"\")\n",
    "    print(lst.sum(axis=2))\n",
    "    \n",
    "    print(\"\\nlst 中的最大值:\", lst.max())\n",
    "    print(\"\\n在 axis=0 的方向上的最大值 lst.max(axis=0):\")\n",
    "    print(lst.max(axis=0))\n",
    "    print(\"\\n在 axis=1 的方向上的最大值 lst.max(axis=1):\")\n",
    "    print(lst.max(axis=1))\n",
    "    print(\"\\n在 axis=2 的方向上的最大值 lst.max(axis=2):\")\n",
    "    print(lst.max(axis=2))\n",
    "    \n",
    "    lst1 = np.array([10, 20, 30, 40])\n",
    "    lst2 = np.array([4, 2, 3, 1])\n",
    "    \n",
    "    print(\"\\n定义lst1:\")\n",
    "    print(lst1)\n",
    "    print(\"定义lst2:\")\n",
    "    print(lst2)\n",
    "    print(\"\\nlst1 + lst2:\")\n",
    "    print(lst1 + lst2)\n",
    "    print(\"\\nlst1 - lst2:\")\n",
    "    print(lst1 - lst2)\n",
    "    print(\"\\nlst1 * lst2:\")\n",
    "    print(lst1 * lst2)\n",
    "    print(\"\\nlst1 / lst2:\")\n",
    "    print(lst1 / lst2)\n",
    "    print(\"\\nSquare  lst1**2:\")\n",
    "    print(lst1**2)\n",
    "    print(\"\\n两个矩阵的点乘lst1.dot(lst2):\")\n",
    "    print(lst1.dot(lst2))\n",
    "    print(\"\\naxis=0方向上连接两个lst: np.concatenate((lst1, lst2), axis=0):\")\n",
    "    print(np.concatenate((lst1, lst2), axis=0))\n",
    "    print(\"\\nvstack连接lst1与lst2\")\n",
    "    print(np.vstack((lst1, lst2)))\n",
    "    print(\"\\nhstack连接lst1与lst2\")\n",
    "    print(np.hstack((lst1, lst2)))\n",
    "    print(\"\\n将lst1分割为四份 np.split(lst1, 4):\")\n",
    "    print(np.split(lst1, 4))\n",
    "numpy_handle()"
   ]
  },
  {
   "cell_type": "markdown",
   "metadata": {},
   "source": [
    "### 2-5 `numpy` 矩阵操作与线性方程组"
   ]
  },
  {
   "cell_type": "markdown",
   "metadata": {},
   "source": [
    "`numpy.allclose()`函数用于比较两方阵所有对应元素值，如果完全相同返回真`(True)`，否则返回假`(False)`"
   ]
  },
  {
   "cell_type": "code",
   "execution_count": 6,
   "metadata": {},
   "outputs": [],
   "source": [
    "from numpy import linalg"
   ]
  },
  {
   "cell_type": "code",
   "execution_count": 7,
   "metadata": {},
   "outputs": [
    {
     "name": "stdout",
     "output_type": "stream",
     "text": [
      "输出 3x3 单位矩阵 np.eye(3):\n",
      "[[1. 0. 0.]\n",
      " [0. 1. 0.]\n",
      " [0. 0. 1.]]\n",
      "定义一个 2x2 矩阵 arr:\n",
      "[[1 2]\n",
      " [3 4]]\n",
      "定义一个 2x1 矩阵 y:\n",
      "[[5]\n",
      " [7]]\n",
      "输出矩阵的逆 linalg.inv(arr):\n",
      "[[-2.   1. ]\n",
      " [ 1.5 -0.5]]\n",
      "输出转置矩阵 np.transpose(arr) 与 arr.T 结果相同:\n",
      "[[1 3]\n",
      " [2 4]]\n",
      "矩阵的行列式 linalg.det(arr) = 1*4 - 2*3:\n",
      "-2.0000000000000004\n",
      "特征值与特征向量 linalg.eig(arr) -- 返回值为一个元组, 第一个为特征值, 第二个为特征向量:\n",
      "(array([-0.37228132,  5.37228132]), array([[-0.82456484, -0.41597356],\n",
      "       [ 0.56576746, -0.90937671]]))\n",
      "求解线性方程组 linalg.solve(arr, y):\n",
      "[[-3.]\n",
      " [ 4.]]\n"
     ]
    }
   ],
   "source": [
    "def numpy_linalg():\n",
    "    print(\"输出 3x3 单位矩阵 np.eye(3):\")\n",
    "    print(np.eye(3))\n",
    "    \n",
    "    arr = np.array([[1, 2], [3, 4]])\n",
    "    y = np.array([[5,], [7,]])\n",
    "    print(\"定义一个 2x2 矩阵 arr:\")\n",
    "    print(arr)\n",
    "    print(\"定义一个 2x1 矩阵 y:\")\n",
    "    print(y)\n",
    "    \n",
    "    print(\"输出矩阵的逆 linalg.inv(arr):\")\n",
    "    print(linalg.inv(arr))\n",
    "\n",
    "    print(\"输出转置矩阵 np.transpose(arr) 与 arr.T 结果相同:\")\n",
    "    print(np.transpose(arr))\n",
    "\n",
    "    print(\"矩阵的行列式 linalg.det(arr) = 1*4 - 2*3:\")\n",
    "    print(linalg.det(arr))\n",
    "    \n",
    "    print(\"特征值与特征向量 linalg.eig(arr) -- 返回值为一个元组, 第一个为特征值, 第二个为特征向量:\")\n",
    "    print(linalg.eig(arr))\n",
    "    \n",
    "    print(\"求解线性方程组 linalg.solve(arr, y):\")\n",
    "    print(linalg.solve(arr, y))\n",
    "numpy_linalg()"
   ]
  },
  {
   "cell_type": "markdown",
   "metadata": {},
   "source": [
    "### 2-6 `numpy` 其他应用简介"
   ]
  },
  {
   "cell_type": "code",
   "execution_count": 8,
   "metadata": {},
   "outputs": [
    {
     "name": "stdout",
     "output_type": "stream",
     "text": [
      "信号处理 FFT:\n",
      "[8.+0.j 0.+0.j 0.+0.j 0.+0.j 0.+0.j 0.+0.j 0.+0.j 0.+0.j]\n",
      "\n",
      "相关系数 Coef:\n",
      "[[ 1.        -0.8660254]\n",
      " [-0.8660254  1.       ]]\n",
      "\n",
      "生成一元多次函数 Poly:\n",
      "   2\n",
      "2 x + 1 x + 3\n"
     ]
    }
   ],
   "source": [
    "def numpy_other():\n",
    "    print(\"信号处理 FFT:\")\n",
    "    print(np.fft.fft(np.array([1, 1, 1, 1, 1, 1, 1, 1])))\n",
    "    \n",
    "    print(\"\\n相关系数 Coef:\")\n",
    "    print(np.corrcoef([1, 0, 1], [0, 2, 1]))\n",
    "    \n",
    "    print(\"\\n生成一元多次函数 Poly:\")\n",
    "    print(np.poly1d([2, 1, 3]))\n",
    "numpy_other()"
   ]
  },
  {
   "cell_type": "markdown",
   "metadata": {},
   "source": [
    "## 第三章 `matplotlib`"
   ]
  },
  {
   "cell_type": "markdown",
   "metadata": {},
   "source": [
    "### 3-1 `matplotlib` 概述"
   ]
  },
  {
   "cell_type": "code",
   "execution_count": 9,
   "metadata": {},
   "outputs": [],
   "source": [
    "import matplotlib.pyplot as plt"
   ]
  },
  {
   "cell_type": "markdown",
   "metadata": {},
   "source": [
    "### 3-2 基本线图绘制"
   ]
  },
  {
   "cell_type": "code",
   "execution_count": 124,
   "metadata": {},
   "outputs": [
    {
     "data": {
      "image/png": "[encoded data removed]",
      "text/plain": [
       "<Figure size 720x360 with 1 Axes>"
      ]
     },
     "metadata": {
      "needs_background": "light"
     },
     "output_type": "display_data"
    }
   ],
   "source": [
    "def main():\n",
    "    # 定义 x 与 y, 并绘制图像\n",
    "    x = np.linspace(-np.pi, np.pi, 256, endpoint=True)\n",
    "    y_cos, y_sin = np.cos(x), np.sin(x)\n",
    "    \n",
    "    plt.figure(1, figsize=(10, 5))\n",
    "    plt.plot(x, y_cos, color=\"blue\", linewidth=1.0, linestyle='-', label=\"COS\", alpha=0.5)\n",
    "    plt.plot(x, y_sin, \"r*\", label=\"SIN\")\n",
    "    plt.title(\"COS&SIN\")  # 设置图片的 Title\n",
    "    \n",
    "    ax = plt.gca() # 定义轴编辑器\n",
    "    ax.spines[\"right\"].set_color(\"none\") # 隐藏图像右侧边框\n",
    "    ax.spines[\"top\"].set_color(\"none\")   # 隐藏图像顶部边框\n",
    "    ax.spines[\"left\"].set_position((\"data\", 0))   # 将左侧边框移动到坐标为0的位置\n",
    "    ax.spines[\"bottom\"].set_position((\"data\", 0)) # 将底部边框移动到坐标为0的位置\n",
    "\n",
    "    ax.xaxis.set_ticks_position(\"bottom\")  # 将x坐标轴上的lable标签设置到坐标轴的下面\n",
    "    ax.yaxis.set_ticks_position(\"left\")    # 将x坐标轴上的lable标签设置到坐标轴的左侧\n",
    "    \n",
    "    # xticks([需要标识的lable位置], [lable的内容]) 前后两个list长度要相等\n",
    "    plt.xticks([-np.pi, -np.pi / 2, 0, np.pi / 2, np.pi], [r'$-\\pi$', r'$-\\pi/2$', r'$0$', r'$+\\pi/2$', r'$+\\pi$'])\n",
    "    # 此处yticks直接使用np.linspace()生成(-1, 1)之间5个数字作为lable\n",
    "    plt.yticks(np.linspace(-1, 1, 5, endpoint=True))\n",
    "\n",
    "    # ax.get_xticklabels() 与 ax.get_yticklabels() 可以获得 x 与 y 上面所有的lable\n",
    "    for lable in ax.get_xticklabels() + ax.get_yticklabels():\n",
    "        # 设置所有 lable 的字体大小\n",
    "        lable.set_fontsize(16)\n",
    "        # 设置 lable 方框的颜色 边缘颜色 框内透明度\n",
    "        lable.set_bbox(dict(facecolor=\"black\", edgecolor=\"red\", alpha=0.1))\n",
    "\n",
    "    plt.legend(loc=\"upper left\")  # 显示左上角图例\n",
    "    plt.grid() # 显示网格线\n",
    "    plt.axis([-4, 4, -1.5, 1.5])  # 指定图片的显示范围\n",
    "    # 区域填充\n",
    "    plt.fill_between(x, np.abs(x) < 0.5, y_cos, y_cos > 0.5, color=\"green\", alpha=0.25)\n",
    "    t = 1\n",
    "    plt.plot([t, t], [0, np.cos(t)], \"y\", linewidth=3, linestyle='--') # 对应(1, 0) (1, np.cos(1))两点\n",
    "    \n",
    "    # 设置箭头\n",
    "    # xy=(t, np.cos(1)) 为箭头的开始位置\n",
    "    # xytext=(+10, +30) 为箭头的偏移量, 如果不设置, 文本会跟箭头重合\n",
    "    # textcoords=\"offset points\" 指定箭头是相对位置\n",
    "    # arrowprops={} 设置箭头的样式, 弧度\n",
    "    plt.annotate(\"cos(1)\", xy=(t, np.cos(1)), xycoords=\"data\", xytext=(+10, +30), textcoords=\"offset points\",\n",
    "                 arrowprops={\"arrowstyle\": \"->\", \"connectionstyle\": \"arc3,rad=0.2\"})\n",
    "    plt.show()\n",
    "\n",
    "main()"
   ]
  },
  {
   "cell_type": "markdown",
   "metadata": {},
   "source": [
    "### 3-3 子图与多种图形绘制"
   ]
  },
  {
   "cell_type": "markdown",
   "metadata": {},
   "source": [
    "- `np.random.normal(loc, scale, size)`<br>\n",
    "产生具有正态分布的数组, `loc` 均值, `scale` 标准差, `size` 形状\n",
    "- `np.random.uniform(low, high, size)` <br>产生具有均匀分布的数组, `low` 起始值, `high` 结束值, `size` 形状"
   ]
  },
  {
   "cell_type": "code",
   "execution_count": 199,
   "metadata": {},
   "outputs": [],
   "source": [
    "import matplotlib.pyplot as plt"
   ]
  },
  {
   "cell_type": "code",
   "execution_count": 147,
   "metadata": {},
   "outputs": [],
   "source": [
    "def scatter_pic(fig):\n",
    "    ax = fig.add_subplot(3, 3, 1)\n",
    "    n = 128\n",
    "    # 产生均值为0, 标准差为1, 长度为128的向量\n",
    "    X = np.random.normal(0, 1, n)\n",
    "    Y = np.random.normal(0, 1, n)\n",
    "    T = np.arctan2(Y, X) # 用来设置颜色\n",
    "    \n",
    "    # plt.axes([0.025, 0.025, 0.95, 0.95]) # 指定显示范围\n",
    "    ax.scatter(X, Y, c=T, alpha=0.5)\n",
    "    \n",
    "    plt.xlim(-1.5, 1.5)\n",
    "    plt.xticks([])\n",
    "    \n",
    "    plt.ylim(-1.5, 1.5)\n",
    "    plt.yticks([])\n",
    "    plt.axis()\n",
    "    plt.title(\"scatter\")\n",
    "    plt.xlabel(\"x\")\n",
    "    plt.ylabel(\"y\")"
   ]
  },
  {
   "cell_type": "code",
   "execution_count": 180,
   "metadata": {},
   "outputs": [],
   "source": [
    "def bar_pic(fig):\n",
    "    ax = fig.add_subplot(332)\n",
    "    n = 10\n",
    "    X = np.arange(n)\n",
    "    Y1 = (1 - X / float(n)) * np.random.uniform(0.5, 1.0, size=n)\n",
    "    Y2 = (1 - X / float(n)) * np.random.uniform(0.5, 1.0, size=n)\n",
    "    \n",
    "    ax.bar(X, +Y1, facecolor= \"#9999ff\", edgecolor=\"white\")\n",
    "    ax.bar(X, -Y2, facecolor= \"#ff9999\", edgecolor=\"white\")\n",
    "    \n",
    "    plt.axis([-1, 10, -1, 1])\n",
    "    for x, y in zip(X, Y1):\n",
    "        plt.text(x, y, \"%0.2f\"%y, ha=\"center\", va=\"bottom\")\n",
    "    for x, y in zip(X, Y2):\n",
    "        plt.text(x, -y - 0.05, \"%0.2f\"%y, ha=\"center\", va=\"top\")"
   ]
  },
  {
   "cell_type": "code",
   "execution_count": 188,
   "metadata": {},
   "outputs": [],
   "source": [
    "def pie_pic(fig):\n",
    "    ax = fig.add_subplot(333)\n",
    "    n = 20\n",
    "    Z = np.ones(n)\n",
    "    Z[-1] *= 2  # 将最后一个乘以2, 使其离中心的距离是其他扇形的2倍\n",
    "    # explode=Z*0.05 每个扇形离中心点的位置\n",
    "    ax.pie(Z, explode=Z*0.05, colors=[\"%f\"%(i / float(n)) for i in range(n)], labels=[\"%0.2f\"%(i/float(n)) for i in range(n)])\n",
    "    plt.gca().set_aspect(\"equal\")  # \"equal\" 使其成为一个正圆\n",
    "    plt.xticks([])\n",
    "    plt.yticks([])"
   ]
  },
  {
   "cell_type": "code",
   "execution_count": 190,
   "metadata": {},
   "outputs": [],
   "source": [
    "def polar_pic(fig):\n",
    "    ax = fig.add_subplot(334, polar=True)\n",
    "    n = 20\n",
    "    theta = np.arange(0.0, 2 * np.pi, 2* np.pi / n)\n",
    "    radii = 10 * np.random.rand(n)\n",
    "    plt.polar(theta, radii)"
   ]
  },
  {
   "cell_type": "code",
   "execution_count": 197,
   "metadata": {},
   "outputs": [],
   "source": [
    "from matplotlib import cm\n",
    "\n",
    "def heat_map(fig):\n",
    "    ax = fig.add_subplot(335)\n",
    "    data = np.random.rand(3, 3)\n",
    "    cmap = cm.Blues\n",
    "    map = plt.imshow(data, interpolation=\"nearest\", cmap=cmap, aspect=\"auto\", vmin=0, vmax=1)"
   ]
  },
  {
   "cell_type": "code",
   "execution_count": 203,
   "metadata": {},
   "outputs": [],
   "source": [
    "from mpl_toolkits.mplot3d import Axes3D\n",
    "\n",
    "def mplot_3d_pic(fig):\n",
    "    ax = fig.add_subplot(336, projection=\"3d\")\n",
    "    ax.scatter(1, 1, 3, s=100)"
   ]
  },
  {
   "cell_type": "code",
   "execution_count": 218,
   "metadata": {},
   "outputs": [
    {
     "data": {
      "image/png": "[encoded data removed]",
      "text/plain": [
       "<Figure size 1224x720 with 6 Axes>"
      ]
     },
     "metadata": {
      "needs_background": "light"
     },
     "output_type": "display_data"
    }
   ],
   "source": [
    "def matplotlib_other():\n",
    "    fig = plt.figure(figsize=(17, 10))\n",
    "    scatter_pic(fig)   # 散点图\n",
    "    bar_pic(fig)       # 条形图\n",
    "    pie_pic(fig)       # 饼图\n",
    "    polar_pic(fig)     # 极图\n",
    "    heat_map(fig)      # 热图\n",
    "    mplot_3d_pic(fig)  # 3D图\n",
    "    plt.savefig(\"./picture/2x3.png\")\n",
    "    plt.show()\n",
    "matplotlib_other()"
   ]
  },
  {
   "cell_type": "markdown",
   "metadata": {},
   "source": [
    "## 第四章 `scipy`"
   ]
  },
  {
   "cell_type": "markdown",
   "metadata": {},
   "source": [
    "### 4-1 `scipy` 简介"
   ]
  },
  {
   "cell_type": "markdown",
   "metadata": {},
   "source": [
    "- 科学计算库\n",
    "- 线性代数\n",
    "- 常微分方程\n",
    "- 信号处理\n",
    "- 图像处理\n",
    "- 矩阵<br>\n",
    "官网: `https://www.scipy.org/`"
   ]
  },
  {
   "cell_type": "markdown",
   "metadata": {},
   "source": [
    "### 4-2 `scipy` 积分 `Intergral`"
   ]
  },
  {
   "cell_type": "code",
   "execution_count": 221,
   "metadata": {},
   "outputs": [
    {
     "name": "stdout",
     "output_type": "stream",
     "text": [
      "(1.0000000000000002, 5.842606742906004e-11)\n",
      "(0.33333333325010883, 1.3888461883425516e-08)\n",
      "(0.010416666666666668, 4.101620128472366e-16)\n"
     ]
    }
   ],
   "source": [
    "from scipy.integrate import quad, dblquad, nquad\n",
    "import numpy as np\n",
    "\n",
    "def scipy_intergral():\n",
    "    # quad: 一元积分, 打印出数值积分, 该函数返回两个值, 第一个是它的值, 第二个是误差\n",
    "    print(quad(lambda x: np.exp(-x), 0, np.inf))\n",
    "    \n",
    "    # dblquad 二元积分\n",
    "    print(dblquad(lambda t, x: np.exp(-x*t)/t**3, 0, np.inf, lambda x: 1, lambda x: np.inf))\n",
    "    \n",
    "    # nquad n维积分\n",
    "    def f(x, y):\n",
    "        return x*y\n",
    "    def bound_y():\n",
    "        return [0, 0.5]\n",
    "    def bound_x(y):\n",
    "        return [0, 1-2*y]\n",
    "    print(nquad(f, [bound_x, bound_y]))\n",
    "    \n",
    "scipy_intergral()"
   ]
  },
  {
   "cell_type": "markdown",
   "metadata": {},
   "source": [
    "### 4-3 `scipy` 优化器 `Optimizer`"
   ]
  },
  {
   "cell_type": "code",
   "execution_count": null,
   "metadata": {},
   "outputs": [],
   "source": []
  },
  {
   "cell_type": "markdown",
   "metadata": {},
   "source": [
    "### 4-4 `scipy` 插值 `Interpolation`"
   ]
  },
  {
   "cell_type": "code",
   "execution_count": null,
   "metadata": {},
   "outputs": [],
   "source": []
  },
  {
   "cell_type": "markdown",
   "metadata": {},
   "source": [
    "### 4-5 `scipy` 线性计算与矩阵分解 `Linear`"
   ]
  },
  {
   "cell_type": "code",
   "execution_count": null,
   "metadata": {},
   "outputs": [],
   "source": []
  },
  {
   "cell_type": "markdown",
   "metadata": {},
   "source": [
    "### 4-6 `scipy` 学习"
   ]
  },
  {
   "cell_type": "code",
   "execution_count": null,
   "metadata": {},
   "outputs": [],
   "source": []
  },
  {
   "cell_type": "markdown",
   "metadata": {},
   "source": [
    "## 第五章 `pandas`"
   ]
  },
  {
   "cell_type": "markdown",
   "metadata": {},
   "source": [
    "### 5-1 认识 `pandas`"
   ]
  },
  {
   "cell_type": "code",
   "execution_count": null,
   "metadata": {},
   "outputs": [],
   "source": []
  },
  {
   "cell_type": "markdown",
   "metadata": {},
   "source": [
    "### 5-2 `pandas` 基础数据结构"
   ]
  },
  {
   "cell_type": "code",
   "execution_count": null,
   "metadata": {},
   "outputs": [],
   "source": []
  },
  {
   "cell_type": "markdown",
   "metadata": {},
   "source": [
    "### 5-3 `pandas` 基本操作"
   ]
  },
  {
   "cell_type": "code",
   "execution_count": 231,
   "metadata": {},
   "outputs": [
    {
     "data": {
      "text/plain": [
       "array([  1,   3,   5,   7,   9,  11,  13,  15,  17,  19,  21,  23,  25,\n",
       "        27,  29,  31,  33,  35,  37,  39,  41,  43,  45,  47,  49,  51,\n",
       "        53,  55,  57,  59,  61,  63,  65,  67,  69,  71,  73,  75,  77,\n",
       "        79,  81,  83,  85,  87,  89,  91,  93,  95,  97, 100])"
      ]
     },
     "execution_count": 231,
     "metadata": {},
     "output_type": "execute_result"
    }
   ],
   "source": [
    "np.linspace(1, 100, dtype=int)"
   ]
  },
  {
   "cell_type": "markdown",
   "metadata": {},
   "source": [
    "### 5-4 `pandas` 缺失值处理"
   ]
  },
  {
   "cell_type": "code",
   "execution_count": null,
   "metadata": {},
   "outputs": [],
   "source": []
  },
  {
   "cell_type": "markdown",
   "metadata": {},
   "source": [
    "### 5-5 `pandas` 表统计与整合"
   ]
  },
  {
   "cell_type": "code",
   "execution_count": null,
   "metadata": {},
   "outputs": [],
   "source": []
  },
  {
   "cell_type": "markdown",
   "metadata": {},
   "source": [
    "### 5-6 `pandas` 时间, 绘图, 文件操作"
   ]
  },
  {
   "cell_type": "code",
   "execution_count": null,
   "metadata": {},
   "outputs": [],
   "source": []
  },
  {
   "cell_type": "markdown",
   "metadata": {},
   "source": [
    "## 第六章 `scikit-learn`"
   ]
  },
  {
   "cell_type": "markdown",
   "metadata": {},
   "source": [
    "### 6-1 认识 `scikit-learn`"
   ]
  },
  {
   "cell_type": "code",
   "execution_count": null,
   "metadata": {},
   "outputs": [],
   "source": []
  },
  {
   "cell_type": "markdown",
   "metadata": {},
   "source": [
    "### 6-2 机器学习与决策树"
   ]
  },
  {
   "cell_type": "code",
   "execution_count": null,
   "metadata": {},
   "outputs": [],
   "source": []
  },
  {
   "cell_type": "markdown",
   "metadata": {},
   "source": [
    "### 6-3 `scikit-learn` 实现决策树"
   ]
  },
  {
   "cell_type": "code",
   "execution_count": null,
   "metadata": {},
   "outputs": [],
   "source": []
  },
  {
   "cell_type": "markdown",
   "metadata": {},
   "source": [
    "## 第七章 `keras`"
   ]
  },
  {
   "cell_type": "markdown",
   "metadata": {},
   "source": [
    "### 7-1 认识 `Keras`"
   ]
  },
  {
   "cell_type": "code",
   "execution_count": null,
   "metadata": {},
   "outputs": [],
   "source": []
  },
  {
   "cell_type": "markdown",
   "metadata": {},
   "source": [
    "### 7-2 人工神经网络简单介绍"
   ]
  },
  {
   "cell_type": "code",
   "execution_count": null,
   "metadata": {},
   "outputs": [],
   "source": []
  },
  {
   "cell_type": "markdown",
   "metadata": {},
   "source": [
    "### 7-3 `keras` 实现人工神经网络"
   ]
  },
  {
   "cell_type": "code",
   "execution_count": null,
   "metadata": {},
   "outputs": [],
   "source": []
  },
  {
   "cell_type": "code",
   "execution_count": null,
   "metadata": {},
   "outputs": [],
   "source": []
  },
  {
   "cell_type": "code",
   "execution_count": null,
   "metadata": {},
   "outputs": [],
   "source": []
  },
  {
   "cell_type": "code",
   "execution_count": null,
   "metadata": {},
   "outputs": [],
   "source": []
  },
  {
   "cell_type": "code",
   "execution_count": null,
   "metadata": {},
   "outputs": [],
   "source": []
  },
  {
   "cell_type": "code",
   "execution_count": null,
   "metadata": {},
   "outputs": [],
   "source": []
  },
  {
   "cell_type": "code",
   "execution_count": null,
   "metadata": {},
   "outputs": [],
   "source": []
  },
  {
   "cell_type": "code",
   "execution_count": null,
   "metadata": {},
   "outputs": [],
   "source": []
  },
  {
   "cell_type": "code",
   "execution_count": null,
   "metadata": {},
   "outputs": [],
   "source": []
  },
  {
   "cell_type": "markdown",
   "metadata": {},
   "source": [
    "1. $\\tan{c} = \\frac{4}{8}$, $\\tan{c}$ 对应$\\angle{1}$\n",
    "2. $\\angle{2} = 2\\angle{1}$\n",
    "3. $S_{扇形CBD} = S_{扇形ADE} + S_{\\Delta{ABC}}$\n",
    "4. $S_{DEF} = \\frac{1}{2}(S_{矩形} - \\frac{1}{2}S_{圆A})$ <br>  $S_{EDB} = S_{\\Delta{DCE}} - S_{DEB}$\n",
    "5. $S_{DEF} - S_{DEB} = S_{BEF}(结果)$"
   ]
  },
  {
   "cell_type": "markdown",
   "metadata": {},
   "source": []
  },
  {
   "cell_type": "markdown",
   "metadata": {},
   "source": []
  },
  {
   "cell_type": "markdown",
   "metadata": {},
   "source": []
  },
  {
   "cell_type": "markdown",
   "metadata": {},
   "source": []
  }
 ],
 "metadata": {
  "kernelspec": {
   "display_name": "Python 3",
   "language": "python",
   "name": "python3"
  },
  "language_info": {
   "codemirror_mode": {
    "name": "ipython",
    "version": 3
   },
   "file_extension": ".py",
   "mimetype": "text/x-python",
   "name": "python",
   "nbconvert_exporter": "python",
   "pygments_lexer": "ipython3",
   "version": "3.6.5"
  }
 },
 "nbformat": 4,
 "nbformat_minor": 2
}
