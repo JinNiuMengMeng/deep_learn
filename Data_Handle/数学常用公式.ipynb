{
 "cells": [
  {
   "cell_type": "markdown",
   "metadata": {},
   "source": [
    "# 一 数列"
   ]
  },
  {
   "cell_type": "markdown",
   "metadata": {},
   "source": [
    "## 1-1 等差数列"
   ]
  },
  {
   "cell_type": "markdown",
   "metadata": {},
   "source": [
    "### 1-1-1 定义"
   ]
  },
  {
   "cell_type": "markdown",
   "metadata": {},
   "source": [
    "等差数列（又名算术数列）是数列的一种。在等差数列中，**任何相邻两项的差相等，该差值称为公差。**例如数列 {3,5,7,9,11,13} 就是一个等差数列。 在这个数列中，从第二项起，每项与其前一项之差都等于2，即公差为2。"
   ]
  },
  {
   "cell_type": "markdown",
   "metadata": {},
   "source": [
    "### 1-1-2 通项公式"
   ]
  },
  {
   "cell_type": "markdown",
   "metadata": {},
   "source": [
    "如果一个等差数列的首项标为 $a_{1}$，公差标为 $d$，那么该等差数列第 $n$ 项的表达式为:$$a_{n} = a_{1} + (n - 1)d$$\n",
    "等差数列的任意两项之间存在关系:$$a_{n} = a_{m} + (n - m)d$$\n",
    "和为 $S_{n}$, 首项 $a_{1}$, 末项 $a_{n}$, 公差 $d$, 项数 $n$, 同时可得:$$d = \\frac{a_{n} - a_{m}}{n - m}$$"
   ]
  },
  {
   "cell_type": "markdown",
   "metadata": {},
   "source": [
    "### 1-1-3 求和公式"
   ]
  },
  {
   "cell_type": "markdown",
   "metadata": {},
   "source": [
    "一个公差为 $d$ 的等差数列 ${a_{1}, a_{2}, a_{3}, ..., a_{n}}$ 前 $n$ 项和为:\n",
    "$$S_{n} = a_{1} + a_{2} + ... + a_{n} = \\sum_{i=0}^{n-1}(a_{1} + id) = \\frac{n(a_{1} + a_{n})}{2}$$\n",
    "等差数列在中文教科书中常表达为:  \n",
    "**一个等差数列的和等于 其首项与末项的和 乘以 项数 除以 2.**"
   ]
  },
  {
   "cell_type": "markdown",
   "metadata": {},
   "source": [
    "## 1-2 等比数列"
   ]
  },
  {
   "cell_type": "markdown",
   "metadata": {},
   "source": [
    "### 1-2-1 定义"
   ]
  },
  {
   "cell_type": "markdown",
   "metadata": {},
   "source": [
    "等比数列，又称几何数列。是一种特殊数列。它的特点是：从第二项起，每一项与前一项的比都是一个常数。  \n",
    "\n",
    "例如: 数列 ${2,4,8,16,32,...,2^{n},2^{n+1}}$ 。这就是一个等比数列，因为第二项与第一项的比和第三项与第二项的比相等，都等于 2。如 2 这样后一项与前一项的比称公比，符号为 q。"
   ]
  },
  {
   "cell_type": "markdown",
   "metadata": {},
   "source": [
    "### 1-2-2 等比公式"
   ]
  },
  {
   "cell_type": "markdown",
   "metadata": {},
   "source": [
    "根据等比数列的定义可得: $$q = \\frac{a_{n}}{a_{n-1}} (n >= 2)$$"
   ]
  },
  {
   "cell_type": "markdown",
   "metadata": {},
   "source": [
    "### 1-2-3 通项公式"
   ]
  },
  {
   "cell_type": "markdown",
   "metadata": {},
   "source": [
    "可以任意定义一个等比数列 $\\{a_{n}\\}$, 这个等比数列从第一项起分别是 $a_{1}, a_{2}, a_{3}, ..., a_{n}, ...,$ 公比为`q`, 则有:\n",
    "$$a_{n} = a_{n-1}q = a_{1}q^{n-1}$$"
   ]
  },
  {
   "cell_type": "markdown",
   "metadata": {},
   "source": [
    "### 1-2-4 求和公式"
   ]
  },
  {
   "cell_type": "markdown",
   "metadata": {},
   "source": [
    "$$ S_{n}= \\begin{cases} \\frac{a_{1}-a_{1}q^{n}}{1-q}, & \\text {q ≠ 1} \\\\ na_{1}, & \\text{q = 1} \\end{cases} $$"
   ]
  },
  {
   "cell_type": "markdown",
   "metadata": {},
   "source": []
  }
 ],
 "metadata": {
  "kernelspec": {
   "display_name": "Python 3",
   "language": "python",
   "name": "python3"
  },
  "language_info": {
   "codemirror_mode": {
    "name": "ipython",
    "version": 3
   },
   "file_extension": ".py",
   "mimetype": "text/x-python",
   "name": "python",
   "nbconvert_exporter": "python",
   "pygments_lexer": "ipython3",
   "version": "3.6.5"
  }
 },
 "nbformat": 4,
 "nbformat_minor": 2
}
