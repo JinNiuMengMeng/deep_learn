{
 "cells": [
  {
   "cell_type": "markdown",
   "metadata": {},
   "source": [
    "## 第七章-PAC与梯度上升法"
   ]
  },
  {
   "cell_type": "markdown",
   "metadata": {},
   "source": [
    "### 7-1 什么是PCA?"
   ]
  },
  {
   "cell_type": "markdown",
   "metadata": {},
   "source": [
    "主成分分析法 `Principal Component Analysis`\n",
    "\n",
    "- 一个非监督的机器学习算法\n",
    "- 主要用于数据的降维\n",
    "- 通过降维, 可以发现更便于人理解的特征\n",
    "- 其他应用: 可视化, 降噪"
   ]
  },
  {
   "cell_type": "markdown",
   "metadata": {},
   "source": [
    "![](./picture/7-1-1.png)"
   ]
  },
  {
   "cell_type": "markdown",
   "metadata": {},
   "source": [
    "![](./picture/7-1-2.png)"
   ]
  },
  {
   "cell_type": "markdown",
   "metadata": {},
   "source": [
    "<font face=\"Courier New\">\n",
    "\n",
    "目标: **找到一条使得样本间间距最大的轴**<br>\n",
    "使用方差(`Variance`)定义样本间的间距, $Var(x) = \\frac{1}{m}\\sum^{m}_{i=1}(x_{i} - \\overline{x})^{2}$<br>\n",
    "方差:描述样本整体分布的疏密的指标, 方差越大, 样本间越稀疏, 方差越小样本间越紧密, 因此, 目标转化为**找到使得样本最大方差**"
   ]
  },
  {
   "cell_type": "markdown",
   "metadata": {},
   "source": [
    "![](picture/7-1-3.png)"
   ]
  },
  {
   "cell_type": "markdown",
   "metadata": {},
   "source": [
    "<font face=\"Courier New\">\n",
    "\n",
    "$Var(x) = \\frac{1}{m}\\sum^{m}_{i=1}(x_{i} - \\overline{x})^{2}$;其中 $\\overline{x}=0$; 则: $Var(x) = \\frac{1}{m}\\sum^{m}_{i=1}x_{i}^{2}$"
   ]
  },
  {
   "cell_type": "markdown",
   "metadata": {},
   "source": [
    "<font face=\"Courier New\">\n",
    "\n",
    "对所有的样本进行 `demean` 处理, 我们想要求一个轴的方向 `w = (w1, w2)`, 使得我们所有的样本, 映射到 w 以后, 得到: $$Var(X_{project}) = \\frac{1}{m}\\sum^{m}_{i=1}(X_{project}^{(i)} - \\overline{X}_{project})^{2} ;其中X_{project}为映射后的样本.$$\n",
    "$$Var(X_{project}) = \\frac{1}{m}\\sum^{m}_{i=1}||X_{project}^{(i)} - \\overline{X}_{project}||^{2}$$\n",
    "$$Var(X_{project}) = \\frac{1}{m}\\sum^{m}_{i=1}||X_{project}^{(i)}||^{2}$$\n",
    "使得上述最后一个式子结果最大"
   ]
  },
  {
   "cell_type": "markdown",
   "metadata": {},
   "source": [
    "![](picture/7-1-4.png)"
   ]
  },
  {
   "cell_type": "markdown",
   "metadata": {},
   "source": [
    "![](picture/7-1-5.png)"
   ]
  },
  {
   "cell_type": "markdown",
   "metadata": {},
   "source": [
    "**主成分分析与线性回归区别**"
   ]
  },
  {
   "cell_type": "markdown",
   "metadata": {},
   "source": [
    "![](picture/7-1-6.png)"
   ]
  },
  {
   "cell_type": "markdown",
   "metadata": {},
   "source": [
    "![](picture/7-1-7.png)"
   ]
  },
  {
   "cell_type": "markdown",
   "metadata": {},
   "source": [
    "### 7-2 使用梯度上升法求解PCA问题"
   ]
  },
  {
   "cell_type": "markdown",
   "metadata": {},
   "source": [
    "![](picture/7-1-6.png)"
   ]
  }
 ],
 "metadata": {
  "kernelspec": {
   "display_name": "Python 3",
   "language": "python",
   "name": "python3"
  },
  "language_info": {
   "codemirror_mode": {
    "name": "ipython",
    "version": 3
   },
   "file_extension": ".py",
   "mimetype": "text/x-python",
   "name": "python",
   "nbconvert_exporter": "python",
   "pygments_lexer": "ipython3",
   "version": "3.6.5"
  }
 },
 "nbformat": 4,
 "nbformat_minor": 2
}
