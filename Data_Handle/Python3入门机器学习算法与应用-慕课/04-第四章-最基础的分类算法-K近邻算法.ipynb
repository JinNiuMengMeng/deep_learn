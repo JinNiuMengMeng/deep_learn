{
 "cells": [
  {
   "cell_type": "markdown",
   "metadata": {},
   "source": [
    "# 第四章-最基础的分类算法-K近邻算法"
   ]
  },
  {
   "cell_type": "markdown",
   "metadata": {},
   "source": [
    "<font face=\"Courier New\">\n",
    "\n",
    "## 4.1 K 近邻算法基础"
   ]
  },
  {
   "cell_type": "markdown",
   "metadata": {},
   "source": [
    "<font face=\"Courier New\">\n",
    "\n",
    "## `KNN` 的过程\n",
    "欧拉距离:\n",
    "$$\\sqrt{(x^{(a)}-x^{(b)})^{2}+(y^{(a)}-y^{(b)})^{2}}$$\n",
    "$$\\sqrt{(x^{(a)}-x^{(b)})^{2}+(y^{(a)}-y^{(b)})^{2}+(z^{(a)}-z^{(b)})^{2}}$$\n",
    "$$\\sqrt{(X^{(a)}_{1}-X^{(b)}_{1})^{2}+(X^{(a)}_{2}-X^{(b)}_{2})^{2}+...+(X^{(a)}_{n}-X^{(b)}_{n})^{2}}$$\n",
    "$$\\sqrt{\\sum^{n}_{i=1}(X^{(a)}_{i}-X^{(b)}_{i})^{2}}$$"
   ]
  },
  {
   "cell_type": "markdown",
   "metadata": {},
   "source": [
    "<font face=\"Courier New\">\n",
    "\n",
    "## 4.2 `scikit-learn` 中的机器学习算法封装"
   ]
  },
  {
   "cell_type": "markdown",
   "metadata": {},
   "source": [
    "<font face=\"Courier New\">\n",
    "\n",
    "### 4.2.1 实现 `KNN` 的原理"
   ]
  },
  {
   "cell_type": "code",
   "execution_count": 1,
   "metadata": {},
   "outputs": [],
   "source": [
    "import numpy as np\n",
    "import tensorflow as tf\n",
    "import matplotlib.pyplot as plt"
   ]
  },
  {
   "cell_type": "markdown",
   "metadata": {},
   "source": [
    "#### 定义数据"
   ]
  },
  {
   "cell_type": "code",
   "execution_count": 2,
   "metadata": {},
   "outputs": [
    {
     "name": "stdout",
     "output_type": "stream",
     "text": [
      "(10, 2)\n",
      "(10,)\n",
      "(2,)\n"
     ]
    }
   ],
   "source": [
    "# raw_data_x = np.random.randint(0, 10, 20).reshape((10, 2))\n",
    "raw_data_x = np.array([[1,1],[7,8],[2,6],[2,3],[8,4],[3,4],[7,1],[1,3],[7,4],[7,8]])\n",
    "raw_data_y = np.array([0, 0, 0, 0, 0, 1, 1, 1, 1, 1])\n",
    "print(raw_data_x.shape)\n",
    "print(raw_data_y.shape)\n",
    "x = np.array([8, 3])  # 定义一个点\n",
    "print(x.shape)"
   ]
  },
  {
   "cell_type": "markdown",
   "metadata": {},
   "source": [
    "#### 使用散点图绘制定义的数据"
   ]
  },
  {
   "cell_type": "code",
   "execution_count": 3,
   "metadata": {},
   "outputs": [
    {
     "data": {
      "image/png": "[encoded data removed]",
      "text/plain": [
       "<Figure size 432x288 with 1 Axes>"
      ]
     },
     "metadata": {
      "needs_background": "light"
     },
     "output_type": "display_data"
    }
   ],
   "source": [
    "plt.scatter(raw_data_x[raw_data_y==0, 0], raw_data_x[raw_data_y==0, 1], color=\"g\")\n",
    "plt.scatter(raw_data_x[raw_data_y==1, 0], raw_data_x[raw_data_y==1, 1], color=\"r\")\n",
    "plt.scatter(x[0], x[1], color='b')\n",
    "plt.show()"
   ]
  },
  {
   "cell_type": "markdown",
   "metadata": {},
   "source": [
    "#### 实现 `KNN` 的计算过程"
   ]
  },
  {
   "cell_type": "code",
   "execution_count": 4,
   "metadata": {},
   "outputs": [
    {
     "data": {
      "text/plain": [
       "1"
      ]
     },
     "execution_count": 4,
     "metadata": {},
     "output_type": "execute_result"
    }
   ],
   "source": [
    "from math import sqrt\n",
    "# distances = []\n",
    "# for x_train in raw_data_x:\n",
    "#     distances.append(sqrt(np.sum((x_train - x)**2)))\n",
    "# 计算 x 这个点与坐标轴中每一个点的距离\n",
    "distances = [sqrt(np.sum((x_train - x)**2)) for x_train in raw_data_x]\n",
    "\n",
    "# 将距离 distances 排序, np.argsort() 方法将返回排序(从小到大)后的索引值\n",
    "nearest = np.argsort(distances)\n",
    "\n",
    "# 定义 k 值\n",
    "k = 6\n",
    "\n",
    "# 根据排序后的 distances 找到前 K 个点对应的 y\n",
    "topK_y = [raw_data_y[i] for i in nearest[:k]]\n",
    "from collections import Counter\n",
    "votes = Counter(topK_y)\n",
    "\n",
    "# 找出票数最多的一个元素, 如果将1改成2, 则找出票数最多的2个元素\n",
    "category = votes.most_common(1)\n",
    "category[0][0]"
   ]
  },
  {
   "cell_type": "markdown",
   "metadata": {},
   "source": [
    "<font face=\"Courier New\">\n",
    "\n",
    "### 4.2.2 封装 `KNN` 的算法过程"
   ]
  },
  {
   "cell_type": "code",
   "execution_count": 5,
   "metadata": {},
   "outputs": [],
   "source": [
    "import numpy as np\n",
    "from math import sqrt\n",
    "from collections import Counter"
   ]
  },
  {
   "cell_type": "code",
   "execution_count": 6,
   "metadata": {},
   "outputs": [
    {
     "name": "stdout",
     "output_type": "stream",
     "text": [
      "1\n"
     ]
    }
   ],
   "source": [
    "def kNN_classify(k, x_train, y_train, x):\n",
    "    # 如果 x_train.shape == (10, 2), 证明一共有10个点, k 值不能大于10\n",
    "    assert 1 <= k <= x_train.shape[0], \"K 必须大于1, 而且不能大于x_train.shape\"\n",
    "    # x_train.shape[0] 必须与 y_train.shape[0] 相同, 否则无法索引\n",
    "    assert x_train.shape[0] == y_train.shape[0], \"x_train.shape[0] = y_train.shape[0]\"\n",
    "    # 传进来的随机点 x.shape[0] 必须与 x_train.shape[1], 否则 x 不是一个点\n",
    "    assert x_train.shape[1] == x.shape[0], \"x_train.shape[1] == x.shape[0]\"\n",
    "    \n",
    "    distances = [sqrt(np.sum((_x - x)**2)) for _x in x_train]\n",
    "    nearest = np.argsort(distances)\n",
    "    top_y = [y_train[i] for i in nearest[:k]]\n",
    "    votes = Counter(top_y)\n",
    "    return votes.most_common(1)[0][0]\n",
    "\n",
    "print(kNN_classify(k, raw_data_x, raw_data_y, x))"
   ]
  },
  {
   "cell_type": "markdown",
   "metadata": {},
   "source": [
    "<font face=\"Courier New\">\n",
    "\n",
    "###  4.2.3 使用 `scikit-learn` 中的 `KNN`"
   ]
  },
  {
   "cell_type": "code",
   "execution_count": 7,
   "metadata": {},
   "outputs": [],
   "source": [
    "from sklearn.neighbors import KNeighborsClassifier"
   ]
  },
  {
   "cell_type": "code",
   "execution_count": 8,
   "metadata": {},
   "outputs": [],
   "source": [
    "kNN_classifier = KNeighborsClassifier(n_neighbors=6)"
   ]
  },
  {
   "cell_type": "code",
   "execution_count": 9,
   "metadata": {},
   "outputs": [
    {
     "data": {
      "text/plain": [
       "array([1])"
      ]
     },
     "execution_count": 9,
     "metadata": {},
     "output_type": "execute_result"
    }
   ],
   "source": [
    "kNN_classifier.fit(raw_data_x, raw_data_y)\n",
    "x = np.array([8, 3]).reshape(1, -1)  # 必须将 x 转换为一个矩阵\n",
    "kNN_classifier.predict(x)"
   ]
  },
  {
   "cell_type": "markdown",
   "metadata": {},
   "source": [
    "<font face=\"Courier New\">\n",
    "\n",
    "### 4.2.4 封装整理的 `KNN` 代码, 实现类似 `scikit-learn` 中的 `KNN`"
   ]
  },
  {
   "cell_type": "code",
   "execution_count": 10,
   "metadata": {},
   "outputs": [],
   "source": [
    "class KNN_classifiter(object):\n",
    "    \n",
    "    def __init__(self, k):\n",
    "        \"\"\"初始化 KNN 分类器\"\"\"\n",
    "        assert k >= 1, \"k must be valid!\"\n",
    "        self.k = k\n",
    "        self._x_train = None\n",
    "        self._y_train = None\n",
    "    \n",
    "    def fit(self, x_train, y_train):\n",
    "        \"\"\"根据训练数据集 x_train y_train 训练 KNN 分类器\"\"\"\n",
    "        \n",
    "        # 传进来的随机点 x.shape[0] 必须与 x_train.shape[1], 否则 x 不是一个点\n",
    "        assert x_train.shape[0] == y_train.shape[0], \"x_train.shape[0] = y_train.shape[0]\"\n",
    "        # 如果 x_train.shape == (10, 2), 证明一共有10个点, k 值不能大于10\n",
    "        assert 1 <= self.k <= x_train.shape[0], \"K 必须大于1, 而且不能大于x_train.shape\"\n",
    "        \n",
    "        self._x_train = x_train\n",
    "        self._y_train = y_train\n",
    "        \n",
    "        return self\n",
    "    \n",
    "    def predict(self, x_predict):\n",
    "        # 传进来的随机点 x.shape[0] 必须与 x_train.shape[1], 否则 x 不是一个点\n",
    "        assert self._x_train.shape[1] == x_predict.shape[1], \"x_train.shape[1] == x_predict.shape[0]\"\n",
    "        \n",
    "        y_predict = [self._predict(x) for x in x_predict]\n",
    "        \n",
    "        return np.array(y_predict)\n",
    "    \n",
    "    def _predict(self, x):\n",
    "        # 传进来的随机点 x.shape[0] 必须与 x_train.shape[1], 否则 x 不是一个点\n",
    "        assert self._x_train.shape[1] == x.shape[0], \"x_train.shape[1] == x.shape[0]\"\n",
    "        \n",
    "        distances = [sqrt(np.sum((_x - x)**2)) for _x in self._x_train]\n",
    "        nearest = np.argsort(distances)\n",
    "        top_y = [self._y_train[i] for i in nearest[:k]]\n",
    "        votes = Counter(top_y)\n",
    "        \n",
    "        return votes.most_common(1)[0][0]"
   ]
  },
  {
   "cell_type": "code",
   "execution_count": 11,
   "metadata": {},
   "outputs": [],
   "source": [
    "knn_cli = KNN_classifiter(k=6)"
   ]
  },
  {
   "cell_type": "code",
   "execution_count": 12,
   "metadata": {},
   "outputs": [
    {
     "data": {
      "text/plain": [
       "<__main__.KNN_classifiter at 0x7f67f06b7a90>"
      ]
     },
     "execution_count": 12,
     "metadata": {},
     "output_type": "execute_result"
    }
   ],
   "source": [
    "knn_cli.fit(x_train=raw_data_x, y_train=raw_data_y)"
   ]
  },
  {
   "cell_type": "code",
   "execution_count": 13,
   "metadata": {},
   "outputs": [
    {
     "name": "stdout",
     "output_type": "stream",
     "text": [
      "[[8 3]]\n"
     ]
    }
   ],
   "source": [
    "x = np.array([[8, 3]]).reshape(1, 2)  # 必须将 x 转换为一个矩阵\n",
    "print(x)"
   ]
  },
  {
   "cell_type": "code",
   "execution_count": 14,
   "metadata": {},
   "outputs": [
    {
     "data": {
      "text/plain": [
       "array([1])"
      ]
     },
     "execution_count": 14,
     "metadata": {},
     "output_type": "execute_result"
    }
   ],
   "source": [
    "knn_cli.predict(x)"
   ]
  },
  {
   "cell_type": "markdown",
   "metadata": {},
   "source": [
    "<font face=\"Courier New\">\n",
    "\n",
    "## 4.3 训练数据集 与 测试数据集"
   ]
  },
  {
   "cell_type": "markdown",
   "metadata": {},
   "source": [
    "<font face=\"Courier New\">\n",
    "\n",
    "### 4.3.1 将数据拆分为 训练数据集 与 测试数据集"
   ]
  },
  {
   "cell_type": "markdown",
   "metadata": {},
   "source": [
    "<font face=\"Courier New\">\n",
    "\n",
    "将 `iris.data` 中所有的数据拆分为两个数据, 一个作为训练数据集, 一个作为测试数据集;<br>\n",
    "方法一: 将数据集 `x` 与 `y` 使用 `numpy` 合并, 之后进行乱序排序, 取出 `80%` 做为数据集, `20%` 做为测试集, 之后再将两者分离;<br>\n",
    "方法二: 产生 `len(x)` 长度的数字做为 `x` 的索引, 将索引乱序排序, 取出 `80%` 做为数据集, `20%` 做为测试集, 之后根据索引值找到对应的 `y`.<br>\n",
    "本次使用方法二"
   ]
  },
  {
   "cell_type": "code",
   "execution_count": 15,
   "metadata": {},
   "outputs": [
    {
     "name": "stdout",
     "output_type": "stream",
     "text": [
      "(150, 4)\n",
      "(150,)\n"
     ]
    }
   ],
   "source": [
    "import numpy as np\n",
    "from sklearn import datasets  # 导入 sklearn 提供的数据集\n",
    "\n",
    "iris = datasets.load_iris()  # 使用 sklearn 提供的鸢尾花数据集\n",
    "x = iris.data       # 鸢尾花图片对应的数据集\n",
    "y = iris.target     # 结果标签对应的向量\n",
    "print(x.shape)\n",
    "print(y.shape)"
   ]
  },
  {
   "cell_type": "markdown",
   "metadata": {},
   "source": [
    "<font face=\"Courier New\">\n",
    "\n",
    "定义函数 `train_test_split` 对数据进行拆分"
   ]
  },
  {
   "cell_type": "code",
   "execution_count": 16,
   "metadata": {},
   "outputs": [],
   "source": [
    "def train_test_split(x, y, train_ratio=0.8, seed=None):\n",
    "    assert x.shape[0] == y.shape[0], \"The size of x must be equal to the size of y !\"\n",
    "    assert 0 < train_ratio < 1, \"The train must between 0 and 1 !\"\n",
    "    \n",
    "    if seed:\n",
    "        np.random.seed(seed)\n",
    "    \n",
    "    shuffle_indexs = np.random.permutation(len(x))  # 将生成的索引乱序排序\n",
    "    train_ratio = train_ratio                       # 设置训练数据集比例\n",
    "    train_size = int(train_ratio * len(x))          # 计算出训练数据集的大小\n",
    "\n",
    "    train_indexs = shuffle_indexs[:train_size]  # 训练集 索引区间\n",
    "    test_indexs = shuffle_indexs[train_size:]   # 测试集 索引区间\n",
    "    \n",
    "    X_train = x[train_indexs]    # 取出 训练集 x_train\n",
    "    y_train = y[train_indexs]    # 取出 训练集 y_train\n",
    "    X_test = x[test_indexs]      # 取出 测试集 x_test\n",
    "    y_test = y[test_indexs]      # 取出 测试集 y_test\n",
    "    return X_train, X_test, y_train, y_test\n",
    "\n",
    "X_train, X_test, y_train, y_test = train_test_split(x, y, 0.8)"
   ]
  },
  {
   "cell_type": "markdown",
   "metadata": {},
   "source": [
    "**使用我们创建的 `KNN` 对数据进行预测**"
   ]
  },
  {
   "cell_type": "code",
   "execution_count": 17,
   "metadata": {},
   "outputs": [
    {
     "name": "stdout",
     "output_type": "stream",
     "text": [
      "1.0\n"
     ]
    }
   ],
   "source": [
    "knn_cli = KNN_classifiter(k = 6)\n",
    "knn_cli.fit(X_train, y_train)\n",
    "y_predict = knn_cli.predict(X_test) # 对 x_test 进行预测\n",
    "equal_num = sum(y_predict == y_test)   # 计算出 y_predict 与 y_test 有多少个相同的元素\n",
    "result = equal_num / len(y_test)\n",
    "print(result)"
   ]
  },
  {
   "cell_type": "markdown",
   "metadata": {},
   "source": [
    "<font face=\"Courier New\">\n",
    "\n",
    "### 4.3.2 判断机器学习算法的性能"
   ]
  },
  {
   "cell_type": "markdown",
   "metadata": {},
   "source": [
    "**使用 `sklearn` 中的 `KNN` 对数据进行预测**"
   ]
  },
  {
   "cell_type": "code",
   "execution_count": 18,
   "metadata": {},
   "outputs": [],
   "source": [
    "from sklearn.model_selection import train_test_split\n",
    "X_train, X_test, y_train, y_test = train_test_split(x, y, train_size=0.8, test_size=0.2)"
   ]
  },
  {
   "cell_type": "code",
   "execution_count": 19,
   "metadata": {},
   "outputs": [],
   "source": [
    "from sklearn.neighbors import KNeighborsClassifier\n",
    "kNN_classifier = KNeighborsClassifier(n_neighbors=6)"
   ]
  },
  {
   "cell_type": "code",
   "execution_count": 20,
   "metadata": {},
   "outputs": [
    {
     "name": "stdout",
     "output_type": "stream",
     "text": [
      "28\n",
      "0.9333333333333333\n"
     ]
    }
   ],
   "source": [
    "kNN_classifier.fit(X_train, y_train)\n",
    "y_predict = kNN_classifier.predict(X_test)\n",
    "equal_num = sum(y_predict == y_test)\n",
    "print(equal_num)\n",
    "result = equal_num / len(y_test)\n",
    "print(result)"
   ]
  },
  {
   "cell_type": "markdown",
   "metadata": {},
   "source": [
    "<font face=\"Courier New\">\n",
    "\n",
    "## 4.4 分类准确度"
   ]
  },
  {
   "cell_type": "markdown",
   "metadata": {},
   "source": [
    "<font face=\"Courier New\">\n",
    "\n",
    "### 4.4.1 手写数字的识别"
   ]
  },
  {
   "cell_type": "code",
   "execution_count": 21,
   "metadata": {},
   "outputs": [],
   "source": [
    "import numpy as np\n",
    "import matplotlib.pyplot as plt\n",
    "import matplotlib\n",
    "from sklearn import datasets"
   ]
  },
  {
   "cell_type": "code",
   "execution_count": 22,
   "metadata": {},
   "outputs": [
    {
     "data": {
      "text/plain": [
       "dict_keys(['data', 'target', 'target_names', 'images', 'DESCR'])"
      ]
     },
     "execution_count": 22,
     "metadata": {},
     "output_type": "execute_result"
    }
   ],
   "source": [
    "digits = datasets.load_digits()   # 手写数字数据集\n",
    "digits.keys()"
   ]
  },
  {
   "cell_type": "markdown",
   "metadata": {},
   "source": [
    "`dict_keys(['data', 'target', 'target_names', 'images', 'DESCR'])`<br>\n",
    "`data`: 表示所有手绘图片的数据集<br>\n",
    "`target`: 表示每一张图片所属的类别<br>\n",
    "`target_names`: 所有类别的名字<br>\n",
    "`DESCR`: 描述信息 <br>"
   ]
  },
  {
   "cell_type": "code",
   "execution_count": 23,
   "metadata": {},
   "outputs": [
    {
     "data": {
      "image/png": "[encoded data removed]",
      "text/plain": [
       "<Figure size 432x288 with 1 Axes>"
      ]
     },
     "metadata": {
      "needs_background": "light"
     },
     "output_type": "display_data"
    }
   ],
   "source": [
    "x = digits.data\n",
    "y = digits.target\n",
    "\n",
    "some_digits = x[666]\n",
    "some_digits_image = some_digits.reshape(8,8)\n",
    "\n",
    "plt.imshow(some_digits_image, cmap=matplotlib.cm.binary)\n",
    "plt.show()"
   ]
  },
  {
   "cell_type": "code",
   "execution_count": 24,
   "metadata": {},
   "outputs": [],
   "source": [
    "from sklearn.model_selection import train_test_split\n",
    "X_train, x_test, y_train, y_test = train_test_split(x, y, test_size=0.2)"
   ]
  },
  {
   "cell_type": "code",
   "execution_count": 25,
   "metadata": {},
   "outputs": [
    {
     "data": {
      "text/plain": [
       "KNeighborsClassifier(algorithm='auto', leaf_size=30, metric='minkowski',\n",
       "           metric_params=None, n_jobs=None, n_neighbors=3, p=2,\n",
       "           weights='uniform')"
      ]
     },
     "execution_count": 25,
     "metadata": {},
     "output_type": "execute_result"
    }
   ],
   "source": [
    "from sklearn.neighbors import KNeighborsClassifier\n",
    "kNN_classifier = KNeighborsClassifier(n_neighbors=3)\n",
    "kNN_classifier.fit(X_train, y_train)"
   ]
  },
  {
   "cell_type": "code",
   "execution_count": 26,
   "metadata": {},
   "outputs": [
    {
     "name": "stdout",
     "output_type": "stream",
     "text": [
      "0.9888888888888889\n"
     ]
    },
    {
     "data": {
      "text/plain": [
       "0.9888888888888889"
      ]
     },
     "execution_count": 26,
     "metadata": {},
     "output_type": "execute_result"
    }
   ],
   "source": [
    "# 方法一\n",
    "y_predict = kNN_classifier.predict(x_test)\n",
    "result = sum(y_predict == y_test) / len(y_test)\n",
    "print(result)\n",
    "# 方法二\n",
    "kNN_classifier.score(x_test, y_test)"
   ]
  },
  {
   "cell_type": "markdown",
   "metadata": {},
   "source": [
    "<font face=\"Courier New\">\n",
    "\n",
    "## 4.5 超参数"
   ]
  },
  {
   "cell_type": "markdown",
   "metadata": {},
   "source": [
    "<font face=\"Courier New\">\n",
    "\n",
    "### 4.5.1 超参数和模型参数"
   ]
  },
  {
   "cell_type": "markdown",
   "metadata": {},
   "source": [
    "- 超参数: 在算法运行前需要决定的参数<br>\n",
    "- 模型参数: 算法过程中学习的参数<br>\n",
    "\n",
    "`KNN` 算法没有模型参数<br>\n",
    "`KNN` 算法中的 K 是典型的超参数"
   ]
  },
  {
   "cell_type": "markdown",
   "metadata": {},
   "source": [
    "<font face=\"Courier New\">\n",
    "\n",
    "### 4.5.2 寻找好的超参数"
   ]
  },
  {
   "cell_type": "markdown",
   "metadata": {},
   "source": [
    "- 领域知识\n",
    "- 经验数值\n",
    "- 实验搜索"
   ]
  },
  {
   "cell_type": "markdown",
   "metadata": {},
   "source": [
    "<font face=\"Courier New\">\n",
    "\n",
    "### 4.5.3 寻找好的 `K`"
   ]
  },
  {
   "cell_type": "code",
   "execution_count": 27,
   "metadata": {},
   "outputs": [],
   "source": [
    "import numpy as np\n",
    "import matplotlib.pyplot as plt\n",
    "import matplotlib\n",
    "from sklearn import datasets\n",
    "from sklearn.neighbors import KNeighborsClassifier\n",
    "from sklearn.model_selection import train_test_split\n",
    "\n",
    "digits = datasets.load_digits()\n",
    "x = digits.data\n",
    "y = digits.target\n",
    "X_train, x_test, y_train, y_test = train_test_split(x, y, test_size=0.2, random_state=666)"
   ]
  },
  {
   "cell_type": "code",
   "execution_count": 28,
   "metadata": {},
   "outputs": [
    {
     "name": "stdout",
     "output_type": "stream",
     "text": [
      "best_score = 0.9916666666666667\n",
      "best_k = 4\n"
     ]
    }
   ],
   "source": [
    "best_score = 0.0\n",
    "best_k = -1\n",
    "for k in range(1, 11):\n",
    "    knn_class = KNeighborsClassifier(n_neighbors=k)\n",
    "    knn_class.fit(X_train, y_train)\n",
    "    score = knn_class.score(x_test, y_test)\n",
    "    if score > best_score:\n",
    "        best_score = score\n",
    "        best_k = k\n",
    "print(\"best_score =\", best_score)\n",
    "print(\"best_k =\", best_k)"
   ]
  },
  {
   "cell_type": "markdown",
   "metadata": {},
   "source": [
    "<font face=\"Courier New\">\n",
    "\n",
    "### 4.5.4 考虑距离? 不考虑距离?"
   ]
  },
  {
   "cell_type": "code",
   "execution_count": 29,
   "metadata": {},
   "outputs": [],
   "source": [
    "import numpy as np\n",
    "import matplotlib.pyplot as plt\n",
    "import matplotlib\n",
    "from sklearn.model_selection import train_test_split\n",
    "from sklearn.neighbors import KNeighborsClassifier\n",
    "from sklearn import datasets\n",
    "\n",
    "digit = datasets.load_digits()\n",
    "x = digit.data\n",
    "y = digit.target\n",
    "X_train, x_test, y_train, y_test = train_test_split(x, y, test_size=0.2, random_state=666)"
   ]
  },
  {
   "cell_type": "code",
   "execution_count": 30,
   "metadata": {},
   "outputs": [
    {
     "name": "stdout",
     "output_type": "stream",
     "text": [
      "best_k = 4\n",
      "best_socre = 0.9916666666666667\n",
      "best_method = uniform\n"
     ]
    }
   ],
   "source": [
    "best_k = -1\n",
    "best_score = 0.0\n",
    "best_method = \"\"\n",
    "for method in [\"uniform\", \"distance\"]:\n",
    "    for k in range(1, 11):\n",
    "        knn_cli = KNeighborsClassifier(n_neighbors=k, weights=method)\n",
    "        knn_cli.fit(X_train, y_train)\n",
    "        score = knn_cli.score(x_test, y_test)\n",
    "        if score > best_score:\n",
    "            best_score = score\n",
    "            best_k = k\n",
    "            best_method = method\n",
    "\n",
    "print(\"best_k =\", best_k)\n",
    "print(\"best_socre =\", best_score)\n",
    "print(\"best_method =\", best_method)"
   ]
  },
  {
   "cell_type": "markdown",
   "metadata": {},
   "source": [
    "<font face=\"Courier New\">\n",
    "\n",
    "### 4.5.5 曼哈顿距离与明可夫斯基距离"
   ]
  },
  {
   "cell_type": "markdown",
   "metadata": {},
   "source": [
    "<font face=\"Courier New\" font-size=2.6>\n",
    "\n",
    "欧拉距离:  $\\sqrt{\\sum^{n}_{i=1}(X^{(a)}_{i}-X^{(b)}_{i})^{2}}$ =>\n",
    "$\\sqrt{\\sum^{n}_{i=1}|X^{(a)}_{i}-X^{(b)}_{i}|^{2}}$ =>\n",
    "$(\\sum^{n}_{i=1}|X^{(a)}_{i}-X^{(b)}_{i}|^{2})^{\\frac{1}{2}}$<br>\n",
    "曼哈顿距离:  $\\sum^{n}_{i=1}|X^{(a)}_{i}-X^{(b)}_{i}|$ \n",
    " = = = = = = = = = = > \n",
    "$(\\sum^{n}_{i=1}|X^{(a)}_{i}-X^{(b)}_{i}|)^{\\frac{1}{1}}$<br>\n",
    "根据欧拉距离和曼哈顿距离得出**明可夫斯基距离**: = = = > \n",
    "$(\\sum^{n}_{i=1}|X^{(a)}_{i}-X^{(b)}_{i}|^{p})^{\\frac{1}{p}}$  => 获取一个超参数 `p`<br>\n",
    "<center>\n",
    "<br>图片中的 红 蓝 黄 都是曼哈顿距离\n",
    "<br>绿色的线指的就是欧拉距离\n",
    "    \n",
    "![](./picture/5.png)"
   ]
  },
  {
   "cell_type": "markdown",
   "metadata": {},
   "source": [
    "<font face=\"Courier New\">\n",
    "\n",
    "### 4.5.6 寻找最优超参数 `p`"
   ]
  },
  {
   "cell_type": "code",
   "execution_count": 1,
   "metadata": {},
   "outputs": [],
   "source": [
    "import numpy as np\n",
    "import matplotlib.pyplot as plt\n",
    "import matplotlib\n",
    "from sklearn.model_selection import train_test_split\n",
    "from sklearn.neighbors import KNeighborsClassifier\n",
    "from sklearn import datasets\n",
    "\n",
    "digit = datasets.load_digits()\n",
    "x = digit.data\n",
    "y = digit.target\n",
    "X_train, x_test, y_train, y_test = train_test_split(x, y, test_size=0.2, random_state=666)"
   ]
  },
  {
   "cell_type": "markdown",
   "metadata": {},
   "source": [
    "<font face=\"Courier New\">\n",
    "\n",
    "####  4.5.6.1 方法一: 网格搜索  (自定义 `for` 循环)"
   ]
  },
  {
   "cell_type": "code",
   "execution_count": 6,
   "metadata": {},
   "outputs": [
    {
     "name": "stdout",
     "output_type": "stream",
     "text": [
      "best_k = 3\n",
      "best_socre = 0.9888888888888889\n",
      "best_p = 2\n"
     ]
    }
   ],
   "source": [
    "best_k = -1\n",
    "best_score = 0.0\n",
    "best_p = 0\n",
    "for k in range(1, 11):\n",
    "    for p in range(1, 5):\n",
    "        # 因为参数 p 是在距离公式的参数, 因此权重 weights 的值设定为 \"distance\", 所以不能使用每一种进行搜索\n",
    "        knn_cli = KNeighborsClassifier(n_neighbors=k, weights=\"distance\", p=p)\n",
    "        knn_cli.fit(X_train, y_train)\n",
    "        score = knn_cli.score(x_test, y_test)\n",
    "        if score > best_score:\n",
    "            best_score = score\n",
    "            best_k = k\n",
    "            best_p = p\n",
    "\n",
    "print(\"best_k =\", best_k)\n",
    "print(\"best_socre =\", best_score)\n",
    "print(\"best_p =\", best_p)"
   ]
  },
  {
   "cell_type": "markdown",
   "metadata": {},
   "source": [
    "<font face=\"Courier New\">\n",
    "\n",
    "####  4.5.6.2 方法一: 网格搜索 (使用 `sklearn` 提供的 `Gird Search`)"
   ]
  },
  {
   "cell_type": "markdown",
   "metadata": {},
   "source": [
    "定义网格搜索的参数"
   ]
  },
  {
   "cell_type": "code",
   "execution_count": 2,
   "metadata": {},
   "outputs": [],
   "source": [
    "param_grid = [\n",
    "    {\n",
    "        \"weights\": [\"uniform\"],\n",
    "        \"n_neighbors\": [i for i in range(1, 11)]\n",
    "    },{\n",
    "        \"weights\": [\"distance\"],\n",
    "        \"n_neighbors\": [i for i in range(1, 11)],\n",
    "        \"p\": [i for i in range(1, 6)]\n",
    "    }\n",
    "]"
   ]
  },
  {
   "cell_type": "code",
   "execution_count": 3,
   "metadata": {},
   "outputs": [],
   "source": [
    "# 导入可以识别 param_grid 的包\n",
    "from sklearn.model_selection import GridSearchCV\n",
    "from sklearn.neighbors import KNeighborsClassifier"
   ]
  },
  {
   "cell_type": "code",
   "execution_count": 4,
   "metadata": {},
   "outputs": [],
   "source": [
    "knn_cli = KNeighborsClassifier()\n",
    "# GridSearchCV() 根据定义的参数, 创建多个分类器(这个过程可以并行处理)\n",
    "# n_jobs: 表示电脑CPU使用几核处理传进来的参数去创建分类器, -1 表示不管有几个核, 全都用上\n",
    "# verbose: 当运行进行训练时输出信息, 值越大, 输出的结果越详细\n",
    "grid_search = GridSearchCV(knn_cli, param_grid, cv=3, n_jobs=-1, verbose=0)"
   ]
  },
  {
   "cell_type": "code",
   "execution_count": 6,
   "metadata": {},
   "outputs": [
    {
     "data": {
      "text/plain": [
       "GridSearchCV(cv=3, error_score='raise-deprecating',\n",
       "       estimator=KNeighborsClassifier(algorithm='auto', leaf_size=30, metric='minkowski',\n",
       "           metric_params=None, n_jobs=None, n_neighbors=5, p=2,\n",
       "           weights='uniform'),\n",
       "       fit_params=None, iid='warn', n_jobs=-1,\n",
       "       param_grid=[{'weights': ['uniform'], 'n_neighbors': [1, 2, 3, 4, 5, 6, 7, 8, 9, 10]}, {'weights': ['distance'], 'n_neighbors': [1, 2, 3, 4, 5, 6, 7, 8, 9, 10], 'p': [1, 2, 3, 4, 5]}],\n",
       "       pre_dispatch='2*n_jobs', refit=True, return_train_score='warn',\n",
       "       scoring=None, verbose=0)"
      ]
     },
     "execution_count": 6,
     "metadata": {},
     "output_type": "execute_result"
    }
   ],
   "source": [
    "# 定义的参数越多, 此处训练的时间越长\n",
    "grid_search.fit(X_train, y_train)"
   ]
  },
  {
   "cell_type": "code",
   "execution_count": 7,
   "metadata": {},
   "outputs": [
    {
     "data": {
      "text/plain": [
       "{'n_neighbors': 3, 'p': 3, 'weights': 'distance'}"
      ]
     },
     "execution_count": 7,
     "metadata": {},
     "output_type": "execute_result"
    }
   ],
   "source": [
    "grid_search.best_estimator_ # 最佳分类器对应的参数\n",
    "grid_search.best_score_     # 最优结果值\n",
    "grid_search.best_params_    # 对应的最优参数"
   ]
  },
  {
   "cell_type": "markdown",
   "metadata": {},
   "source": [
    "类似 `best_estimator_` 这样d不是由用户传入的参数, 而是根据用户传入的参数, 对应的类计算出来的结果\n",
    "这样的参数命名时在名字末尾加下划线\"_\""
   ]
  },
  {
   "cell_type": "code",
   "execution_count": 8,
   "metadata": {},
   "outputs": [
    {
     "data": {
      "text/plain": [
       "0.9833333333333333"
      ]
     },
     "execution_count": 8,
     "metadata": {},
     "output_type": "execute_result"
    }
   ],
   "source": [
    "# 最佳参数对应的分类器\n",
    "knn_clf = grid_search.best_estimator_\n",
    "knn_clf.score(x_test, y_test)"
   ]
  },
  {
   "cell_type": "markdown",
   "metadata": {},
   "source": [
    "<font face=\"Courier New\">\n",
    "\n",
    "### 4.5.7 更多的距离定义"
   ]
  },
  {
   "cell_type": "markdown",
   "metadata": {},
   "source": [
    "- 向量空间余弦相似度 `Cosine Simiilarity`\n",
    "- 调整余弦相似度 `Adjusted Cosine Similarity`\n",
    "- 皮尔森相关系数 `Pearson Correlation Coefficient`\n",
    "- Jaccard 相似系数 `Jaccard Coeffcient`"
   ]
  },
  {
   "cell_type": "markdown",
   "metadata": {},
   "source": [
    "<font face=\"Courier New\">\n",
    "\n",
    "## 4.7 数据归一化 `Feature Scaling`"
   ]
  },
  {
   "cell_type": "markdown",
   "metadata": {},
   "source": [
    "<font face=\"Courier New\">\n",
    "    \n",
    "#### 解决方案: 将所有的数据映射到同一尺度<br>\n",
    "1. 最值归一化 `normalization` : 将所有数据映射到 0-1 之间. 公式为:\n",
    "$$x_{scale} = \\frac{x-x_{min}}{x_{max}-x_{min}}$$\n",
    "<center>\n",
    "    x: 对应每一个特征点; \n",
    "    $x_{min}$: 表示特征点中最小的一个; \n",
    "    $x_{max}$: 表示特征点中最大的一个<br>\n",
    "\n",
    "**适用于分布有明显边界的情况, 受 `outlier` 影响较大.** 比如:<br>\n",
    " - 学生成绩, 区间 0-100\n",
    " - 图片的像素点, 区间 0-255\n",
    "\n",
    "\n",
    "2. 均值方差归一化 `standardization`: 将所有数据归一到均值为 0 方差为 1 的分布中. 公式为:\n",
    "$$x_{scale} = \\frac{x-x_{mean}}{S}$$\n",
    "<center>\n",
    "    x: 对应每一个特征值; $x_{mean}$: 表示特征值对应的均值; S: 特征值对应的方差\n",
    "\n",
    "**适用于数据分布没有明显边界; 有可能存在极端数据值.** 比如:<br>\n",
    " - 个人薪资 (有的人薪资可能上百万千万, 有的人可能几千)"
   ]
  },
  {
   "cell_type": "markdown",
   "metadata": {},
   "source": [
    "### 4.7.1 最值归一化 `normalization` "
   ]
  },
  {
   "cell_type": "code",
   "execution_count": 1,
   "metadata": {},
   "outputs": [],
   "source": [
    "import numpy as np\n",
    "import matplotlib.pyplot as plt"
   ]
  },
  {
   "cell_type": "markdown",
   "metadata": {},
   "source": [
    "#### 4.7.1.1 将一个向量进行最值归一化"
   ]
  },
  {
   "cell_type": "code",
   "execution_count": 2,
   "metadata": {},
   "outputs": [],
   "source": [
    "x = np.random.randint(0, 100, size = 100) # 获取 0-100 之间100个数"
   ]
  },
  {
   "cell_type": "code",
   "execution_count": 3,
   "metadata": {},
   "outputs": [],
   "source": [
    "norX = (x - np.min(x)) / (np.max(x) - np.min(x))  # 归一化处理"
   ]
  },
  {
   "cell_type": "code",
   "execution_count": 4,
   "metadata": {},
   "outputs": [
    {
     "data": {
      "image/png": "[encoded data removed]",
      "text/plain": [
       "<Figure size 576x288 with 2 Axes>"
      ]
     },
     "metadata": {
      "needs_background": "light"
     },
     "output_type": "display_data"
    }
   ],
   "source": [
    "plt.figure(figsize=(8, 4))\n",
    "# 归一化之前\n",
    "ax1 = plt.subplot(1, 2, 1)\n",
    "ax1.scatter(x[:50], x[50:])\n",
    "ax1.set_title(\"Normalization Before\")\n",
    "# 归一化之后\n",
    "ax2 = plt.subplot(1, 2, 2)\n",
    "ax2.scatter(norX[:50], norX[50:])\n",
    "ax2.set_title(\"Normalization After\")\n",
    "plt.show()"
   ]
  },
  {
   "cell_type": "markdown",
   "metadata": {},
   "source": [
    "#### 4.7.1.2 将一个矩阵进行最值归一化"
   ]
  },
  {
   "cell_type": "code",
   "execution_count": 18,
   "metadata": {},
   "outputs": [],
   "source": [
    "x = np.random.randint(0, 100, size=(50, 2))\n",
    "norX = np.array(x, dtype=np.float)\n",
    "\n",
    "norX[:, 0] = (x[:, 0] - np.min(x[:, 0])) / (np.max(x[:, 0]) - np.min(x[:, 0]))\n",
    "norX[:, 1] = (x[:, 1] - np.min(x[:, 1])) / (np.max(x[:, 1]) - np.min(x[:, 1]))"
   ]
  },
  {
   "cell_type": "markdown",
   "metadata": {},
   "source": [
    "<font face=\"Courier New\">\n",
    "\n",
    " 1. 生成所有元素分布在 0-100 区间内, 50*2 的矩阵;\n",
    " 2. 因为需要将所有的数据转成 0-1, 需要将上面生成的 `int` 数据转成 `float`;\n",
    " 3. 将矩阵的每一列数据进行数据归一化."
   ]
  },
  {
   "cell_type": "code",
   "execution_count": 6,
   "metadata": {
    "scrolled": true
   },
   "outputs": [
    {
     "data": {
      "image/png": "[encoded data removed]",
      "text/plain": [
       "<Figure size 576x288 with 2 Axes>"
      ]
     },
     "metadata": {
      "needs_background": "light"
     },
     "output_type": "display_data"
    }
   ],
   "source": [
    "plt.figure(figsize=(8, 4))\n",
    "# 归一化之前\n",
    "ax3 = plt.subplot(1, 2, 1)\n",
    "ax3.scatter(x[:25, 0], x[25:, 0])\n",
    "ax3.set_title(\"Normalization Before\")\n",
    "# 归一化之后\n",
    "ax4 = plt.subplot(1, 2, 2)\n",
    "ax4.scatter(norX[:25, 0], norX[25:, 0])\n",
    "ax4.set_title(\"Normalization After\")\n",
    "plt.show()"
   ]
  },
  {
   "cell_type": "markdown",
   "metadata": {},
   "source": [
    "`norX` 每一列对应的均值"
   ]
  },
  {
   "cell_type": "code",
   "execution_count": 9,
   "metadata": {},
   "outputs": [
    {
     "name": "stdout",
     "output_type": "stream",
     "text": [
      "0.5055670103092783\n",
      "0.5024242424242424\n"
     ]
    }
   ],
   "source": [
    "print(np.mean(norX[:, 0]))\n",
    "print(np.mean(norX[:, 1])) "
   ]
  },
  {
   "cell_type": "markdown",
   "metadata": {},
   "source": [
    "`norX` 每一列对应的方差"
   ]
  },
  {
   "cell_type": "code",
   "execution_count": 11,
   "metadata": {
    "scrolled": true
   },
   "outputs": [
    {
     "name": "stdout",
     "output_type": "stream",
     "text": [
      "0.3340585443659165\n",
      "0.308309635171656\n"
     ]
    }
   ],
   "source": [
    "print(np.std(norX[:, 0]))\n",
    "print(np.std(norX[:, 1]))"
   ]
  },
  {
   "cell_type": "markdown",
   "metadata": {},
   "source": [
    "### 4.7.2 均值方差归一化 `Standardization` "
   ]
  },
  {
   "cell_type": "code",
   "execution_count": 14,
   "metadata": {},
   "outputs": [],
   "source": [
    "import numpy as np\n",
    "import matplotlib.pyplot as plt"
   ]
  },
  {
   "cell_type": "code",
   "execution_count": 15,
   "metadata": {},
   "outputs": [],
   "source": [
    "x = np.random.randint(0, 100, (50, 2))\n",
    "staX = np.array(x, dtype=np.float)\n",
    "\n",
    "staX[:, 0] = (x[:, 0] - np.mean(x[:, 0])) / np.std(x[:, 0])\n",
    "staX[:, 1] = (x[:, 1] - np.mean(x[:, 1])) / np.std(x[:, 1])"
   ]
  },
  {
   "cell_type": "code",
   "execution_count": 16,
   "metadata": {},
   "outputs": [
    {
     "data": {
      "image/png": "[encoded data removed]",
      "text/plain": [
       "<Figure size 720x288 with 2 Axes>"
      ]
     },
     "metadata": {
      "needs_background": "light"
     },
     "output_type": "display_data"
    }
   ],
   "source": [
    "plt.figure(figsize=(10, 4))\n",
    "\n",
    "ax2 = plt.subplot(1, 2, 1)\n",
    "ax2.scatter(x[:, 0], x[:, 1])\n",
    "ax2.set_title(\"Standardization Before\")\n",
    "\n",
    "ax2 = plt.subplot(1, 2, 2)\n",
    "ax2.scatter(staX[:, 0], staX[:, 1])\n",
    "ax2.set_title(\"Standardization After\")\n",
    "plt.show()"
   ]
  },
  {
   "cell_type": "markdown",
   "metadata": {},
   "source": [
    "`staX` 每一列的均值 (无限接近于 0)"
   ]
  },
  {
   "cell_type": "code",
   "execution_count": 18,
   "metadata": {},
   "outputs": [
    {
     "name": "stdout",
     "output_type": "stream",
     "text": [
      "3.552713678800501e-17\n",
      "-5.995204332975846e-17\n"
     ]
    }
   ],
   "source": [
    "print(np.mean(staX[:, 0]))\n",
    "print(np.mean(staX[:, 1]))"
   ]
  },
  {
   "cell_type": "markdown",
   "metadata": {},
   "source": [
    "`staX` 每一列的方差  (无限接近于 1)"
   ]
  },
  {
   "cell_type": "code",
   "execution_count": 19,
   "metadata": {},
   "outputs": [
    {
     "name": "stdout",
     "output_type": "stream",
     "text": [
      "1.0\n",
      "1.0\n"
     ]
    }
   ],
   "source": [
    "print(np.std(staX[:, 0]))\n",
    "print(np.std(staX[:, 1]))"
   ]
  },
  {
   "cell_type": "markdown",
   "metadata": {},
   "source": [
    "**均值方差归一化 `Standardization` 将数据的均值放在了 0 的位置, 将数据的方差放在了 1 的位置.**<br>\n",
    "即使数据中存在极端值, 仍然满足均值为 0, 方差为 1."
   ]
  },
  {
   "cell_type": "markdown",
   "metadata": {},
   "source": [
    "<font face=\"Courier New\">\n",
    "\n",
    "## 4.8 `scikit-learn` 中的 `Scaler`"
   ]
  },
  {
   "cell_type": "markdown",
   "metadata": {},
   "source": [
    "![](./picture/6.png)<br>\n",
    "测试数据是模拟真实环境;<br>\n",
    "真实环境很可能无法得到所有测试数据的均值和方差;<br>\n",
    "对数据的归一化也算是算法的一部分.<br>\n",
    "![](./picture/7.png)"
   ]
  },
  {
   "cell_type": "markdown",
   "metadata": {},
   "source": [
    "### 4-8-1 鸢尾花数据数据归一化处理"
   ]
  },
  {
   "cell_type": "code",
   "execution_count": 1,
   "metadata": {},
   "outputs": [],
   "source": [
    "import numpy as np\n",
    "from sklearn import datasets"
   ]
  },
  {
   "cell_type": "code",
   "execution_count": 21,
   "metadata": {},
   "outputs": [],
   "source": [
    "iris = datasets.load_iris()\n",
    "x = iris.data\n",
    "y = iris.target"
   ]
  },
  {
   "cell_type": "code",
   "execution_count": 22,
   "metadata": {},
   "outputs": [],
   "source": [
    "from sklearn.model_selection import train_test_split\n",
    "\n",
    "X_train, x_test, y_train, y_test = train_test_split(x, y, test_size=0.2)"
   ]
  },
  {
   "cell_type": "markdown",
   "metadata": {},
   "source": [
    "`scikit-learn` 中的 `StandarScaler`"
   ]
  },
  {
   "cell_type": "code",
   "execution_count": 40,
   "metadata": {},
   "outputs": [
    {
     "data": {
      "text/plain": [
       "StandardScaler(copy=True, with_mean=True, with_std=True)"
      ]
     },
     "execution_count": 40,
     "metadata": {},
     "output_type": "execute_result"
    }
   ],
   "source": [
    "from sklearn.preprocessing import StandardScaler\n",
    "standarScaler = StandardScaler()\n",
    "standarScaler.fit(X_train)"
   ]
  },
  {
   "cell_type": "code",
   "execution_count": 41,
   "metadata": {},
   "outputs": [
    {
     "data": {
      "text/plain": [
       "array([0.83232606, 0.44064347, 1.74097654, 0.74932887])"
      ]
     },
     "execution_count": 41,
     "metadata": {},
     "output_type": "execute_result"
    }
   ],
   "source": [
    "standarScaler.mean_   # 得到每一列的均值\n",
    "standarScaler.scale_  # 得到每一列的方差 (sklearn V_0.19之前是 std_, 之后是 scale_)"
   ]
  },
  {
   "cell_type": "code",
   "execution_count": 42,
   "metadata": {},
   "outputs": [],
   "source": [
    "X_train_stan = standarScaler.transform(X_train)\n",
    "x_test_stan = standarScaler.transform(x_test)"
   ]
  },
  {
   "cell_type": "code",
   "execution_count": 45,
   "metadata": {},
   "outputs": [
    {
     "name": "stdout",
     "output_type": "stream",
     "text": [
      "0.9333333333333333\n",
      "0.23333333333333334\n"
     ]
    }
   ],
   "source": [
    "from sklearn.neighbors import KNeighborsClassifier\n",
    "knn_clf = KNeighborsClassifier(n_neighbors=3)\n",
    "knn_clf.fit(X_train_stan, y_train)\n",
    "print(knn_clf.score(x_test_stan, y_test))  # 归一化处理后的数据进行测试\n",
    "print(knn_clf.score(x_test, y_test))       # 归一化处理前的数据进行测试"
   ]
  },
  {
   "cell_type": "markdown",
   "metadata": {},
   "source": [
    "### 4-8-2 封装 `StandardScaler`"
   ]
  },
  {
   "cell_type": "code",
   "execution_count": 7,
   "metadata": {},
   "outputs": [],
   "source": [
    "class Standar_Scaler(object):\n",
    "    def __init__(self):\n",
    "        self.mean_ = None\n",
    "        self.scale_ = None\n",
    "        \n",
    "    def fit(self, x):\n",
    "        \"\"\"根据训练数据集x 获得数据的均值和方差\"\"\"\n",
    "        assert x.ndim == 2, \"the dimension of x must be 2\"\n",
    "        self.mean_ = np.array([np.mean(x[:, i]) for i in range(x.shape[1])])\n",
    "        self.scale_ = np.array(np.std(x[:, i]) for i in range(x.shape[1]))\n",
    "        return self\n",
    "    \n",
    "    def trainform(self, x):\n",
    "        \"\"\"将x根据这个standardcaler进行均值方差归一化处理\"\"\"\n",
    "        assert x.ndim == 2, \"the dimension of x must be 2\"\n",
    "        assert self.mean_ is not None and self.scale_ is not None, \"Must be feature number of x must be eueal to  ean_ and std_\"\n",
    "        assert x.shape[1] == len(self.mean_), \"the feature number of x must be equeal to mean_ and std_\"\n",
    "        reX = np.empty(shape=x.shape, dtype=np.float)\n",
    "        for col in range(x.shape[1]):\n",
    "            reX[:, col] = (x[:, col] - self.mean_[col]) / self.scale_[col]\n",
    "            return reX"
   ]
  },
  {
   "cell_type": "markdown",
   "metadata": {},
   "source": [
    "## 4-9 有关 `K` 近邻算法"
   ]
  },
  {
   "cell_type": "markdown",
   "metadata": {},
   "source": [
    "<font face=\"Courier New\">\n",
    "    \n",
    "1. 缺点一: 效率底下(更大的缺点)\n",
    " - 如果训练集有 m 个样本 , n 个特征个, 则预测每一个新的数据, 需要 $O(m*n)$\n",
    " - 优化, 使用树结构: KD-Tree, Ball-Tree\n",
    "2. 缺点二: 高度数据相关\n",
    " - 如果原始数据中有两个错数据, 可能导致测试结果相差巨大\n",
    "3. 预测的结果不具有可解释性\n",
    "4. 维数灾难\n",
    " - 随着维度的增加, \"看似相近\"的两个点之间的距离越来越大(解决方法:降维)\n",
    "\n",
    "维度|两点坐标|距离\n",
    "--|--|--\n",
    "1维|0-1的距离|1\n",
    "2维|(0, 0)到(1, 1)的距离|1.414\n",
    "3维|(0, 0, 0)到(1, 1, 1)的距离|1.73\n",
    "64维|(0, 0, ...0)到(1, 1,...1)的距离|8\n",
    "10000维|(0, 0, ...0)到(1, 1,...1)的距离|100\n",
    "\n",
    "![](./picture/8.png)"
   ]
  },
  {
   "cell_type": "code",
   "execution_count": null,
   "metadata": {},
   "outputs": [],
   "source": []
  }
 ],
 "metadata": {
  "kernelspec": {
   "display_name": "Python 3",
   "language": "python",
   "name": "python3"
  },
  "language_info": {
   "codemirror_mode": {
    "name": "ipython",
    "version": 3
   },
   "file_extension": ".py",
   "mimetype": "text/x-python",
   "name": "python",
   "nbconvert_exporter": "python",
   "pygments_lexer": "ipython3",
   "version": "3.6.5"
  }
 },
 "nbformat": 4,
 "nbformat_minor": 2
}
