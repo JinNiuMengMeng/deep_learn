{
 "cells": [
  {
   "cell_type": "markdown",
   "metadata": {},
   "source": [
    "# 第一部分 Python 笔记"
   ]
  },
  {
   "cell_type": "markdown",
   "metadata": {},
   "source": [
    "## 01、\\__new__ 和 \\__init__ 的区别\n",
    "1. `__init__`为初始化方法, 而`__new__`方法才是是真正的构造函数. 只有继承了object的新式类才有`__new__`\n",
    "2. `__new__`至少要有一个参数cls, 代表要实例化的类, 此参数在实例化时由`Python`解释器自动提供, `__new__`必须要有返回值, 返回实例化出来的实例\n",
    "3. `__init__`有一个参数self, 就是`__new__`返回的实例, 先运行`__new__` 然后才运行`__init__`\n",
    "4. `__init__`在`__new__`的基础上可以完成一些其它初始化的动作, `__init__`不需要返回值"
   ]
  },
  {
   "cell_type": "markdown",
   "metadata": {},
   "source": [
    "## 02、Python 中的 *args 与 **kwargs\n",
    "\n",
    "1. `*args`是可变参数, 一般用来表示我们不能确定多少参数将被传递给函数, 或者如果我们想用列表或元组的方式传递给函数.\n",
    "2. `**kwars`是可变关键字参数, 当我们不知道有多少关键字参数会传递给一个函数时, 或者想把一个字典作为关键字参数时使用\n",
    "3. `*args`和`**kwargs`可以同时在函数的定义中,但是`*args`必须在`**kwargs`前面."
   ]
  },
  {
   "cell_type": "markdown",
   "metadata": {},
   "source": [
    "## 03、Python 是如何管理内存的\n",
    "\n",
    "`Python`有一个私有堆空间来保存所有的对象和数据结构. 作为开发者, 我们无法访问它,是解释器在管理它. 但是有了核心`API`后,我们可以访问一些工具. `Python`内存管理器控制内存分配. 另外,内置垃圾回收器会回收使用所有的未使用内存,所以使其适用于堆空间.   \n",
    "\n",
    "**当退出`Python`时,是否释放全部内存?**  \n",
    "答案是`No`. 循环引用其它对象或引用自全局命名空间的对象的模块, 在`Python`退出时并非完全释放. 另外, 也不会释放C库保留的内存部分. "
   ]
  },
  {
   "cell_type": "markdown",
   "metadata": {},
   "source": [
    "## 04、Python 中的 help() 和 dir() 函数\n",
    "\n",
    "1. `Help()`函数是一个内置函数, 用于查看函数或模块用途的详细说明:\n",
    "```\n",
    ">>> import copy\n",
    ">>> help(copy.copy)\n",
    "```\n",
    "\n",
    "2. `Dir()`函数也是`Python`内置函数,`dir()`函数不带参数时, 返回当前范围内的变量、方法和定义的类型列表; 带参数时, 返回参数的属性、方法列表. \n",
    "```\n",
    ">>> import copy\n",
    ">>> dir(copy.copy)\n",
    "['__call__', '__class__', '__closure__', '__code__', '__defaults__', '__delattr__', '__dict__', '__doc__', '__format__', '__get__', '__getattribute__', '__globals__', '__hash__', '`__init__`', '__module__', '__name__', '`__new__`', '__reduce__', '__reduce_ex__', '__repr__', '__setattr__', '__sizeof__', '__str__', '__subclasshook__', 'func_closure', 'func_code', 'func_defaults', 'func_dict', 'func_doc', 'func_globals', 'func_name']\n",
    "```"
   ]
  },
  {
   "cell_type": "markdown",
   "metadata": {},
   "source": [
    "## 05、打乱原列表的元素\n",
    "\n",
    "为了达到这个目的, 我们从`random`模块中导入`shuffle()`函数.   \n",
    "```\n",
    ">>> from random import shuffle\n",
    ">>> shuffle(mylist)\n",
    ">>> mylist\n",
    "运行结果:\n",
    "[3, 4, 8, 0, 5, 7, 6, 2, 1]\n",
    "```"
   ]
  },
  {
   "cell_type": "markdown",
   "metadata": {},
   "source": [
    "## 06、`join()`和`split()`函数\n",
    "\n",
    "1. `Join()`能让我们将指定字符添加至字符串中. \n",
    "```\n",
    ">>> ','.join('12345')\n",
    "# 运行结果:\n",
    "'1,2,3,4,5'\n",
    "```\n",
    "\n",
    "2. `split()`能让我们用指定字符分割字符串. \n",
    "```\n",
    ">>> '1,2,3,4,5'.split(',')\n",
    "# 运行结果:\n",
    "['1', '2', '3', '4', '5']\n",
    "```"
   ]
  },
  {
   "cell_type": "markdown",
   "metadata": {},
   "source": [
    "## 07、Python 中的闭包是什么?(待补充)\n",
    "\n",
    "闭包使得局部变量在函数外被访问成为可能,函数作为函数的值返回,闭包本质上是一个特殊的函数,闭包将变量的值始终保存在函数中. 闭包避免了使用全局变量,此外,闭包允许将函数与其所操作的某些数据(环境)关连起来. 这一点与面向对象编程是非常类似的,在面向对象编程中,对象允许我们将某些数据(对象的属性)与一个或者多个方法相关联.   \n",
    "当对象中只有一个方法时,这时使用闭包是更好的选择. 所有函数都有一个`closure`属性,如果这个函数是一个闭包的话,那么它返回的是一个由`cell`对象组成的元组对象. `cell`对象的`cell_contents`属性就是闭包中的自由变量. "
   ]
  },
  {
   "cell_type": "code",
   "execution_count": 1,
   "metadata": {},
   "outputs": [
    {
     "name": "stdout",
     "output_type": "stream",
     "text": [
      "6\n",
      "25\n"
     ]
    }
   ],
   "source": [
    "def line_conf(a, b):\n",
    "    def line(x):\n",
    "        return a * x + b\n",
    "    return line\n",
    "line1 = line_conf(1, 1)\n",
    "line2 = line_conf(4, 5)\n",
    "print(line1(5))\n",
    "print(line2(5))"
   ]
  },
  {
   "cell_type": "markdown",
   "metadata": {},
   "source": [
    "## 08、Python 中使用多进制数字\n",
    "我们在`Python`中,除十进制外还可以使用二进制、八进制和十六进制.   \n",
    "1. 二进制数字由0和1组成,我们使用 0b 或 0B 前缀表示二进制数. \n",
    "```\n",
    ">>> int(0b1010)\n",
    "10\n",
    "```\n",
    "1. 使用`bin()`函数将一个数字转换为它的二进制形式. \n",
    "```\n",
    ">>> bin(0xf)\n",
    "'0b1111'\n",
    "```\n",
    "1. 八进制数由数字 0-7 组成,用前缀 0o 或 0O 表示 8 进制数. \n",
    "```\n",
    ">>> oct(8)\n",
    "'0o10'\n",
    "```\n",
    "1. 十六进数由数字 0-15 组成,用前缀 0x 或者 0X 表示 16 进制数. \n",
    "```\n",
    ">>> hex(16)\n",
    "'0x10'\n",
    ">>> hex(15)\n",
    "'0xf'\n",
    "```"
   ]
  },
  {
   "cell_type": "markdown",
   "metadata": {},
   "source": [
    "## 09、什么是 namedtuple ?\n",
    "`Namedtuple`能让我们用名称/标签获取一个元组的元素,这里我们使用函数`namedtuple()`,将其从\n",
    "`collections`模块中导入. \n",
    "```\n",
    ">>> from collections import namedtuple\n",
    ">>> result = namedtuple('result','Physics Chemistry Maths')   # format\n",
    ">>> Ayushi = result(Physics=86,Chemistry=95,Maths=86)    # declaring the tuple\n",
    ">>> Ayushi.Chemistry\n",
    "95\n",
    "```"
   ]
  },
  {
   "cell_type": "markdown",
   "metadata": {},
   "source": [
    "## 10、如何检查字符串中所有的字符都为字母数字?\n",
    "对于这个问题,我们可以使用`isalnum()`方法. \n",
    "```\n",
    ">>> 'Ayushi123'.isalnum()\n",
    "True\n",
    ">>> 'Ayushi123!'.isalnum()\n",
    "False\n",
    "```\n",
    "我们还可以用其它一些方法:\n",
    "```\n",
    ">>> '123.3'.isdigit()\n",
    "False\n",
    ">>> '123'.isnumeric()\n",
    "True\n",
    ">>> 'ayushi'.islower()\n",
    "True\n",
    ">>> 'Ayushi'.isupper()\n",
    "False\n",
    ">>> 'Ayushi'.istitle()\n",
    "True\n",
    ">>> '\n",
    "'.isspace()\n",
    "True\n",
    ">>> '123F'.isdecimal()\n",
    "False\n",
    "```"
   ]
  },
  {
   "cell_type": "markdown",
   "metadata": {},
   "source": [
    "## 11、lambda 表达式\n",
    "如果我们需要一个只有单一表达式的函数,我们可以匿名定义它. 拉姆达表达式通常是在需要一个函数,但是又不想费神去命名一个函数的场合下使用,也就是指匿名函数. 如下代码:\n",
    "```\n",
    ">>> (lambda a,b:a if a>b else b)(3,3.5)\n",
    "3.5\n",
    "```\n",
    "这里,a和b都是输入,`a if a>b else b`就是返回的输入,参数为3和3.5.\n",
    "当然,也有可能没有任何输入. \n",
    "```\n",
    ">>> (lambda :print(\"Hi\"))()\n",
    "Hi\n",
    "```"
   ]
  },
  {
   "cell_type": "markdown",
   "metadata": {},
   "source": [
    "## 12、什么是递归\n",
    "在调用一个函数的过程中,直接或间接地调用了函数本身这个就叫递归. 但为了避免出现死循环,必须要有一个结束条件,举个例子:\n",
    "```\n",
    ">>> def facto(n):\n",
    "        if n==1: return 1\n",
    "            return n*facto(n-1)\n",
    ">>> facto(4)\n",
    "24\n",
    "```"
   ]
  },
  {
   "cell_type": "markdown",
   "metadata": {},
   "source": [
    "## 13、什么是生成器\n",
    "生成器会生成一系列的值用于迭代,这样看它又是一种可迭代对象. 它是在for循环的过程中不断计算出下一个元素,并在适当的条件结束`for`循环. \n",
    "我们定义一个能逐个`yield`值的函数,然后用一个`for`循环来迭代它. \n",
    "```\n",
    ">>> def squares(n):\n",
    "             i=1\n",
    "             while(i<=n):\n",
    "                 yield i**2\n",
    "                 i+=1\n",
    ">>> for i in squares(7):\n",
    "               print(i)1\n",
    "4\n",
    "9\n",
    "16\n",
    "25\n",
    "36\n",
    "49\n",
    "```"
   ]
  },
  {
   "cell_type": "markdown",
   "metadata": {},
   "source": [
    "## 14、什么是迭代器\n",
    "迭代器是访问集合元素的一种方式. 迭代器对象从集合的第一个元素开始访问,直到所有的元素被访问完结束. 迭代器只能往前不会后退. 我们使用`inter()`函数创建迭代器. \n",
    "`odds=iter([1,3,5,7,9])`\n",
    "每次想获取一个对象时,我们就调用`next()`函数. \n",
    "```\n",
    ">>> next(odds)\n",
    "1\n",
    ">>> next(odds)\n",
    "3\n",
    ">>> next(odds)\n",
    "5\n",
    ">>> next(odds)\n",
    "7\n",
    ">>> next(odds)\n",
    "9\n",
    "```\n",
    "现在我们再次调用它,会抛出`StopIteration`异常. 这是因为它已经抵达需要迭代的值的尾部. \n",
    "```\n",
    ">>> next(odds)\n",
    "Traceback (most recent call last):\n",
    "File \"<pyshell#295>\", line 1, in <module>\n",
    "next(odds)\n",
    "StopIteration\n",
    "```"
   ]
  },
  {
   "cell_type": "markdown",
   "metadata": {},
   "source": [
    "## 15、请说说生成器和迭代器之间的区别\n",
    "[容器、生成器、迭代器、可迭代对象详解-外部链接](https://foofish.net/iterators-vs-generators.html)\n",
    "1. 在使用生成器时,我们创建一个函数;在使用迭代器时,我们使用内置函数`iter()`和`next()`. \n",
    "2. 在生成器中,我们使用关键字`yield`来每次生成/返回一个对象. \n",
    "3. 生成器中有多少`yield`语句,你可以自定义. \n",
    "4. 每次`yield`暂停循环时,生成器会保存本地变量的状态. 而迭代器并不会使用局部变量,它只需要一个可迭代对象进行迭代. \n",
    "5. 使用类可以实现你自己的迭代器,但无法实现生成器. \n",
    "6. 生成器运行速度快,语法简洁,更简单. \n",
    "7. 迭代器更能节约内存. "
   ]
  },
  {
   "cell_type": "markdown",
   "metadata": {},
   "source": [
    "## 16、简述容器、生成器、迭代器、可迭代对象 以及应用场景?\n",
    "1. 容器:多元素组织的数据结构,可逐个迭代地获取,通常数据结构把元素存储在内存中(迭代器和生成器对象不放在内存). \n",
    "2. 可迭代对象:很多容器都是可迭代对象,实现了`iter`方法,还有打开状态的`files`、`sockets`可以返回一个迭代器的对象,. \n",
    "3. 迭代器:带状态的对象,可以通过调用实现`iter`和`next`的对象都是迭代器,`iter`返回自身,`next`返回容器的下一个值. \n",
    "4. 生成器:生成器是一类特殊的迭代器,不需要`iter`和`next`方法,直接使用`yield`返回,生成器一定是迭代器,生成器以一种懒加载的模式生成值. 可\n",
    "以利用更少地中间变量写流式代码,相比其它容器对象更加节约内存和`CPU`\n",
    "5. 生成器表达式:列表推导式,返回一个生成器对象. "
   ]
  },
  {
   "cell_type": "markdown",
   "metadata": {},
   "source": [
    "## 17、如何以相反顺序展示一个文件的内容?\n",
    "我们首先回到桌面,使用模块`os`中的`chdir()`函数/方法. \n",
    "```\n",
    ">>> import os\n",
    ">>> os.chdir('C:\\\\Users\\\\lifei\\\\Desktop')\n",
    "```\n",
    "这里我们要使用的文件时`Today.txt`,它的内容如下:\n",
    "```\n",
    "OS, DBMS, DS, ADA\n",
    "HTML, CSS, jQuery, JavaScript\n",
    "`Python`, C++, Java\n",
    "This sem's subjects\n",
    "Debugger\n",
    "itertools\n",
    "Container\n",
    "```\n",
    "我们将内容读取为一个列表,然后在上面调用`reversed()`函数:\n",
    "```\n",
    ">>> for line in reversed(list(open('Today.txt'))):\n",
    "print(line.rstrip())\n",
    "container\n",
    "itertools\n",
    "Debugger\n",
    "This sem's subjects`Python`, C++, Java\n",
    "HTML, CSS, jQuery, JavaScript\n",
    "OS, DBMS, DS, ADA\n",
    "```\n",
    "如果没有`rstrip()`, 我们会在输出中得到空行. "
   ]
  },
  {
   "cell_type": "markdown",
   "metadata": {},
   "source": [
    "## 18、谈谈 .pyc 文件和 .py 文件的不同之处\n",
    "虽然这两种文件均保存字节代码,但`.pyc`文件是`Python`文件的编译版本,它有平台无关的字节代码,因此我们可以在任何支持`.pyc`格式文件的平台上执行它. `Python`会自动生成它以优化性能(加载时间,而非运行速度). "
   ]
  },
  {
   "cell_type": "markdown",
   "metadata": {},
   "source": [
    "## 19、简述解释型和编译型编程语言?\n",
    "\n",
    "1. 解释型语言编写的程序不需要编译,在执行的时候,专门有一个解释器能够将 VB 语言翻译成机器语言,每个语句都是执行的时候才翻译. 这样解\n",
    "释型语言每执行一次就要翻译一次,效率比较低. \n",
    "\n",
    "2. 编译型语言写的程序执行之前,需要一个专门的编译过程,通过编译系统,把源高级程序编译成为机器语言文件,翻译只做了一次,运行时不需\n",
    "要翻译"
   ]
  },
  {
   "cell_type": "markdown",
   "metadata": {},
   "source": [
    "## 20、Python 的 and 与 or\n",
    "`python`中`and` 自左向右扫描布尔表达式,如果所有值为真,则返回最后一个为真的表达式,如果为假,则返回第一个为假的表达式,一旦计算得出表达式是假,则直接返回第一个为假的值;\n",
    "`or`的使用与`and`正好相反,自左向右计算整个布尔表达式,如果有为真的值,那么立刻返回第一个为真的值,如果整个表达式为假,则返回最后一个为假的值;\n",
    "```\n",
    ">>> 1 or 2\n",
    "1\n",
    ">>> 2 or 1\n",
    "2\n",
    ">>> 10 and 11\n",
    "11\n",
    ">>> 11 and 10\n",
    "10\n",
    ">>> 0 and 2 and 1\n",
    "0\n",
    ">>> 0 and 2 or 1\n",
    "1\n",
    ">>> 0 and 2 or 1 or 4\n",
    "1\n",
    "```\n",
    "三目表达式:\n",
    "表达式 表达式 表达式 3\n",
    "表达式1成立则执行表达式2,否则执行表达式3\n",
    "```\n",
    ">>> result2 = \"a\" if 1 < 0 else \"b\"\n",
    ">>> result2\n",
    "'b'\n",
    "```"
   ]
  },
  {
   "cell_type": "markdown",
   "metadata": {},
   "source": [
    "## 21、ascii、unicode、utf-8、gbk 区别\n",
    "`ASCII`: 1 个字节 英文\n",
    "`Unicode`: 2 个字节(生僻字 4 个) 所有语言\n",
    "`UTF-8`: 1-6 个字节,英文字母 1 个字节,汉字 3 个字节,生僻字 4-6 个字节 所有语言\n",
    "`GBK`: `GBK` 兼容 `ASCLL` 兼容 `GB2312` 是 `GB2312` 的扩展"
   ]
  },
  {
   "cell_type": "markdown",
   "metadata": {},
   "source": [
    "## 22、字节码和机器码的区别\n",
    "机器码: `CPU` 可直接读取的数据机器指令,执行最快的代码, 编程效率低;\n",
    "字节码:节码是一种中间状态(中间码)的二进制代码(文件). 需要直译器转译后才能成为机器码. "
   ]
  },
  {
   "cell_type": "markdown",
   "metadata": {},
   "source": [
    "## 23、Python2 与 Python3 的区别\n",
    "[`python2`与`python3`的区别:](https://www.cnblogs.com/kendrick/p/7478304.html)\n",
    "https://www.cnblogs.com/kendrick/p/7478304.html"
   ]
  },
  {
   "cell_type": "markdown",
   "metadata": {},
   "source": [
    "## 24、用一行代码实现数值交换:\n",
    "```\n",
    "a = 1\n",
    "b = 2\n",
    "# 方法一:\n",
    "c=a; a=b; b=c\n",
    "# 方法二:\n",
    "a, b = b, a\n",
    "```"
   ]
  },
  {
   "cell_type": "markdown",
   "metadata": {},
   "source": [
    "## 25、xrange 和 range 的区别?\n",
    "1. `xrange` 返回生成器,`range`返回`list`\n",
    "2. `python3` 中去掉`xarange()`, 统一改用`range()`返回生成器\n",
    "3. 对于循环来说`xrange`性能更好"
   ]
  },
  {
   "cell_type": "markdown",
   "metadata": {},
   "source": [
    "## 26、xreadlines 和 readlines 的区别?\n",
    "1. `read()`会读取整个文件,将读取到底的文件内容放到一个字符串变量,返回`str`类型\n",
    "2. `readline()`读取一行内容,放到一个字符串变量,返回`str`类型\n",
    "3. `readlines()`读取文件所有内容,按行为单位放到一个列表中,返回`list`类型\n",
    "4. `xreadlines()`返回一个生成器,来循环操作文件的每一行"
   ]
  },
  {
   "cell_type": "markdown",
   "metadata": {},
   "source": [
    "## 27、字符串、列表、元组、字典每个常用的 5 个方法?\n",
    "字符串: `len() format() islower() rjust() upper()`\n",
    "列表: `append() count() index() pop() remove() clear()`\n",
    "元组: `len(tuple) max(tuple) min(tuple) tuple(seq)`\n",
    "字典: `copy() clear() items() update() setdefault()`"
   ]
  },
  {
   "cell_type": "markdown",
   "metadata": {},
   "source": [
    "## 28、is 和 == 的区别\n",
    "1. `a == b` 比较两个对象的内容是否相等, 会调用对象内部的`__eq__()`\n",
    "2. `is` 判断对象所有信息, 相当于 `id(a) == id(b)`"
   ]
  },
  {
   "cell_type": "markdown",
   "metadata": {},
   "source": [
    "## 29、对象的赋值、深拷贝与浅拷贝\n",
    "1. 对象的赋值: `python`中对象的赋值实际上是简单的对象引用, 也就是说, 当创建一个对象, 然后把它赋值给另一个变量时, `python`并没有拷贝这个对象, 而是拷贝了这个对象的引用.\n",
    "2. 浅复制: 仅拷⻉基本数据类型,字典`copy`方法和`copy.copy()`方法,也是浅复制;(它复制了对象, 但对于对象中的元素, 依然使用原始的引用)\n",
    "3. 深复制: 拷⻉数据类型和引用,计算机开辟一块新内存用于存放复制对象. `copy.deepcopy()` (它会赋值一个容器对象, 以及它里面的所有元素-包含元素的子元素)\n",
    "**对象的赋值`=`**\n",
    "```\n",
    ">>> a = [1, 2, 3, 4]\n",
    ">>> b = a\n",
    ">>> a.append(5)\n",
    "# 结果:\n",
    "a: [1, 2, 3, 4, 5]   id(a): 140475121782152 \n",
    "b: [1, 2, 3, 4, 5]   id(b): 140475121782152\n",
    "```\n",
    "**浅拷贝**\n",
    "```\n",
    ">>> import copy\n",
    ">>> a = [1, [2, 3, 4]]\n",
    ">>> b = copy.copy(a)     # 或者 b = a.copy()\n",
    "# 结果:\n",
    "a: [1, [2, 3, 4]]        id(a): 140475121782789 \n",
    "b: [1, [2, 3, 4]]        id(b): 140475121782890\n",
    ">>> a.append(5)\n",
    "# 结果:\n",
    "a: [1, [2, 3, 4], 5]     id(a): 140475121782789 \n",
    "b: [1, [2, 3, 4]]        id(b): 140475121782890\n",
    ">>> a[1].append(6)\n",
    "# 结果:\n",
    "a: [1, [2, 3, 4, 6], 5]  id(a): 140475121782789  id(a[1]): 140475121782999  \n",
    "b: [1, [2, 3, 4, 6]]     id(b): 140475121782890  id(b[1]): 140475121782999  \n",
    "```\n",
    "**深拷贝**\n",
    "```\n",
    ">>> import copy\n",
    ">>> a = [1, [2, 3, 4]]\n",
    ">>> b = copy.deepcopy(a)\n",
    "# 结果: \n",
    "id(a): 140475121831016   id(a[1]): 140475121782152\n",
    "id(b): 140475121830944   id(b[1]): 140475121831376\n",
    "```"
   ]
  },
  {
   "cell_type": "markdown",
   "metadata": {},
   "source": [
    "## 30、python 基本数据类型\n",
    "1. 数字\n",
    "2. 字符串\n",
    "3. 元组\n",
    "4. 列表\n",
    "5. 集合\n",
    "6. 字典"
   ]
  },
  {
   "cell_type": "markdown",
   "metadata": {},
   "source": [
    "## 31、Python 垃圾回收机制\n",
    "1. 找到内存中无用的垃圾资源\n",
    "2. 清除这些垃圾并把内存让出来给其他对象使用.`Python`语言默认采用的垃圾收集机制是 `引用计数法 Reference Counting`,需要额外空间维持计数,不能解决循环引用问题. \n",
    "循环引用示例:\n",
    "\n",
    "```\n",
    "import pkg_demo.test2 as d2\n",
    "\n",
    "def do_test1() :\n",
    "    d2.do_test2()\n",
    "    \n",
    "if __name__ == '__main__' :\n",
    "    do_test1()\n",
    "```"
   ]
  },
  {
   "cell_type": "markdown",
   "metadata": {},
   "source": [
    "```\n",
    "import pkg_demo.test1 as d1\n",
    "\n",
    "def do_test2() :\n",
    "    d1.do_test1()\n",
    "```"
   ]
  },
  {
   "cell_type": "markdown",
   "metadata": {},
   "source": [
    "为了解决对象的循环引用问题,`Python`引入了`标记清除`和`分代回收`两种机制. \n",
    "1. 标记清除算法(标记和清除),对象引用构成有限图,引用关系构成边,作为`Python`的辅助垃圾收集技术主要处理的是一些容器对象,比如:`list`、`dict`、`tuple`、`instance`等,因为对于字符串、数值对象是不可能造成循环引用问题. 清除非活动的对象前它必须顺序扫描整个堆内存,哪怕只剩下小部分活动对象也要扫描所有对象. \n",
    "2. 分代回收,以空间换时间,将内存根据存活时间划分成不同集合,每个集合为一代,分为年轻代,中年代,老年代;新创建对象在年轻代,年轻代链表达到总数上限, `python`垃圾回收,把那些可以被回收的对象回收掉,而那些不会回收的对象就会被移到中年代,同理到老年代. 分代回收是建立在标记清除技术基础之上. 分代回收同样作为`Python`的辅助垃圾收集技术处理那些容器对象. "
   ]
  },
  {
   "cell_type": "markdown",
   "metadata": {},
   "source": [
    "## 32、Python 的可变类型和不可变类型?\n",
    "不可变数据: `Number`(数字)、`String`(字符串)、`Tuple`(元组);\n",
    "可变数据: `List`(列表)、`Dictionary`(字典)、 `Sets`(集合). "
   ]
  },
  {
   "cell_type": "markdown",
   "metadata": {},
   "source": [
    "## 33、filter、map、reduce 的作用?\n",
    "将函数作用在列表的各个元素,生成新的列表  \n",
    "\n",
    "- `map`将函数作用在列表中的各个元素, 生成新的列表\n",
    "```\n",
    "map(function_to_apply, list_of_inputs)\n",
    "items = [1, 2, 3, 4, 5]\n",
    "squared = list(map(lambda x: x**2, items))\n",
    "```\n",
    "- `fliter`返回条件为`True`的元素列表, `filter`返回一个生成器\n",
    "```\n",
    "number_list = range(-5, 5)\n",
    "less_than_zero = list(filter(lambda x: x < 0, number_list))\n",
    "print(less_than_zero)\n",
    "```\n",
    "- `reduce`列表滚动运算执行一系列的值\n",
    "```\n",
    "from functools import reduce\n",
    "product = reduce((lambda x, y: x * y), [1, 2, 3, 4])\n",
    "```"
   ]
  },
  {
   "cell_type": "markdown",
   "metadata": {},
   "source": [
    "## 34、一行代码实现 9*9 乘法表"
   ]
  },
  {
   "cell_type": "code",
   "execution_count": 4,
   "metadata": {},
   "outputs": [
    {
     "name": "stdout",
     "output_type": "stream",
     "text": [
      "1*1=1 \n",
      "1*2=2  2*2=4 \n",
      "1*3=3  2*3=6  3*3=9 \n",
      "1*4=4  2*4=8  3*4=12 4*4=16\n",
      "1*5=5  2*5=10 3*5=15 4*5=20 5*5=25\n",
      "1*6=6  2*6=12 3*6=18 4*6=24 5*6=30 6*6=36\n",
      "1*7=7  2*7=14 3*7=21 4*7=28 5*7=35 6*7=42 7*7=49\n",
      "1*8=8  2*8=16 3*8=24 4*8=32 5*8=40 6*8=48 7*8=56 8*8=64\n",
      "1*9=9  2*9=18 3*9=27 4*9=36 5*9=45 6*9=54 7*9=63 8*9=72 9*9=81\n"
     ]
    }
   ],
   "source": [
    "print('\\n'.join([' '.join(['%s*%s=%-2s' % (y,x,x*y) for y in range(1,x+1)]) for x in range(1,10)]))"
   ]
  },
  {
   "cell_type": "markdown",
   "metadata": {},
   "source": [
    "## 35、re 的 match 和 search 区别?\n",
    "`match()`函数只检测`RE`是不是在`string`的开始位置匹配,`search()`会扫描整个`string`查找匹配;"
   ]
  },
  {
   "cell_type": "markdown",
   "metadata": {},
   "source": [
    "## 36、请用代码简答实现 stack\n",
    "```\n",
    "class Stack:\n",
    "    def __init__(self):\n",
    "        self.stack = []\n",
    "    def add(self, dataval):\n",
    "        if dataval not in self.stack:\n",
    "            self.stack.append(dataval)\n",
    "            return True\n",
    "        else:\n",
    "            return False\n",
    "    def peek(self):\n",
    "        return self.stack[-1]\n",
    "    def remove(self):\n",
    "        if len(self.stack) <= 0:\n",
    "            return (\"No element in the Stack\")\n",
    "        else:\n",
    "            return self.stack.pop()\n",
    "```"
   ]
  },
  {
   "cell_type": "markdown",
   "metadata": {},
   "source": [
    "## 37、列举面向对象中带爽下划线的特殊方法\n",
    "- `__doc__`: 显示类的解释注释  \n",
    "- `__del__`: 析构方法, 等程序执行结束后统一销毁  \n",
    "- `__call__`: 实例化加()自动执行`call`方法 无卵用  \n",
    "- `__new__`: 把类重写,`new`调用了`init`暂时无用  \n",
    "- `__dict__`: 类的成员变量以字典形式显示出来  "
   ]
  },
  {
   "cell_type": "markdown",
   "metadata": {},
   "source": [
    "## 38、静态方法和类方法区别?\n",
    "`python` 类语法中有三种方法,实例方法,静态方法,类方法.   \n",
    "`@staticmethod`装饰的不带 `self`参数的方法叫做静态方法,没有`@staticmethod`修饰的不带`self`参数的方法叫类方法.   \n",
    "1. 静态方法和类方法都可以通过类来调用;\n",
    "2. 静态方法可以实例来调用,类方法不能通过实例来调用. "
   ]
  },
  {
   "cell_type": "markdown",
   "metadata": {},
   "source": [
    "## 39、什么是反射?以及应用场景?\n",
    "反射: 通过字符串映射`object`对象的方法或者属性  \n",
    "核心本质其实就是利用字符串的形式去对象(模块)中操作(查找/获取/删除/添加)成员,一种基于字符串的事件驱动\n",
    "```\n",
    "hasattr(obj,name_str): 判断object是否有name_str这个方法或者属性\n",
    "getattr(obj,name_str): 获取object对象中与name_str同名的方法或者函数\n",
    "setattr(obj,name_str,value): 为object对象设置一个以name_str为名的value方法或者属性\n",
    "delattr(obj,name_str):删除object对象中的name_str方法或者属性\n",
    "```"
   ]
  },
  {
   "cell_type": "markdown",
   "metadata": {},
   "source": [
    "## 40、装饰器的写法以及应用场景\n",
    "1. 装饰器的强大在于它能够在不修改原有业务逻辑的情况下对代码进行扩展,权限校验、用户认证、日志记录、性能测试、事务处理、缓存等都是\n",
    "2. 装饰器的绝佳应用场景,它能够最大程度地对代码进行复用. \n",
    "3. 装饰器是一个带有函数作为参数并返回一个新函数的闭包,本质上装饰器也是函数.  Python 为装饰器提供了语法糖 @ 调用. "
   ]
  },
  {
   "cell_type": "markdown",
   "metadata": {},
   "source": [
    "## 41、用尽量多的方法实现单例模式\n",
    "单例模式`(Singleton Pattern)`是一种常用的软件设计模式,该模式的主要目的是确保某一个类只有一个实例存在. 当你希望在整个系统中,某个类只能出现一个实例时,单例对象就能派上用场. \n",
    "\n",
    "1. 使用模块\n",
    "\n",
    "```\n",
    "class My_Singleton(object):\n",
    "    def foo(self):\n",
    "        pass\n",
    "\n",
    "my_singleton = My_Singleton()\n",
    "```\n",
    "\n",
    "```\n",
    "from mysingleton import my_singleton\n",
    "my_singleton.foo()\n",
    "```\n",
    "\n",
    "2. 使用`__new__`\n",
    "\n",
    "```\n",
    "class Singleton(object):\n",
    "    _instance = None\n",
    "    def __new__(cls, *args, **kw):\n",
    "        if not cls._instance:\n",
    "            cls._instance = super(Singleton, cls).__new__(cls, *args, **kw)\n",
    "        return cls._instance\n",
    "        \n",
    "class MyClass(Singleton):\n",
    "    a = 1\n",
    "```\n",
    "\n",
    "3. 使用装饰器\n",
    "\n",
    "```\n",
    "from functools import wraps\n",
    "\n",
    "def singleton(cls):\n",
    "    instances = {}\n",
    "    @wraps(cls)\n",
    "    def getinstance(*args, **kw):\n",
    "        if cls not in instances:\n",
    "            instances[cls] = cls(*args, **kw)\n",
    "        return instances[cls]\n",
    "    return getinstance\n",
    "\n",
    "@singleton\n",
    "class MyClass(object):\n",
    "    a = 1\n",
    "```\n",
    "\n",
    "4. 使用元类\n",
    "\n",
    "```\n",
    "class Singleton(type):\n",
    "    _instances = {}\n",
    "    def __call__(cls, *args, **kwargs):\n",
    "        if cls not in cls._instances:\n",
    "            cls._instances[cls] = super(Singleton, cls).__call__(*args, **kwargs)\n",
    "        return cls._instances[cls]\n",
    "\n",
    "# Python2\n",
    "class MyClass(object):\n",
    "    __metaclass__ = Singleton\n",
    "\n",
    "# Python3\n",
    "# class MyClass(metaclass=Singleton):\n",
    "#    pass\n",
    "```"
   ]
  },
  {
   "cell_type": "markdown",
   "metadata": {},
   "source": [
    "## 42、简述 yield 和 yield from 关键字\n",
    "带有`yield`的函数不再是一个普通函数,`Python`解释器会将其视为一个`generator`.\n",
    "利用`yield from`语句向生成器(协程)传送数据"
   ]
  },
  {
   "cell_type": "markdown",
   "metadata": {},
   "source": [
    "## 43、装饰器"
   ]
  },
  {
   "cell_type": "markdown",
   "metadata": {},
   "source": [
    "1. 理解下面代码"
   ]
  },
  {
   "cell_type": "code",
   "execution_count": 3,
   "metadata": {},
   "outputs": [
    {
     "name": "stdout",
     "output_type": "stream",
     "text": [
      "<function foo at 0x7fbb302b68c8>\n",
      "foo\n"
     ]
    }
   ],
   "source": [
    "def foo():\n",
    "    return \"foo\"\n",
    "print(foo)  # foo 表示函数体, 结果: <function foo at 0x7fbb302b68c8>\n",
    "print(foo()) # foo() 表示执行函数, 结果: foo"
   ]
  },
  {
   "cell_type": "code",
   "execution_count": 6,
   "metadata": {},
   "outputs": [
    {
     "data": {
      "text/plain": [
       "2"
      ]
     },
     "execution_count": 6,
     "metadata": {},
     "output_type": "execute_result"
    }
   ],
   "source": [
    "def goo(number):\n",
    "    return number + 1\n",
    "\n",
    "goo = lambda x: x + 1\n",
    "goo(1)  # 执行的是lambda表达式, 而不再是原来的goo函数, 因为goo这个变量已经被重新指向了另一个匿名函数"
   ]
  },
  {
   "cell_type": "code",
   "execution_count": null,
   "metadata": {},
   "outputs": [],
   "source": []
  }
 ],
 "metadata": {
  "kernelspec": {
   "display_name": "Python 3",
   "language": "python",
   "name": "python3"
  },
  "language_info": {
   "codemirror_mode": {
    "name": "ipython",
    "version": 3
   },
   "file_extension": ".py",
   "mimetype": "text/x-python",
   "name": "python",
   "nbconvert_exporter": "python",
   "pygments_lexer": "ipython3",
   "version": "3.6.6"
  }
 },
 "nbformat": 4,
 "nbformat_minor": 2
}
