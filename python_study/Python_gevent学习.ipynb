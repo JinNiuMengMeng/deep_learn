{
 "cells": [
  {
   "cell_type": "markdown",
   "metadata": {},
   "source": [
    "<font face=\"Courier New\">\n",
    "\n",
    "### 什么是线程 ?\n",
    "\n",
    "1. 概念<br>\n",
    "线程是程序执行的最小单位。\n",
    "2. 多线程优点<br>\n",
    "提高程序的并发性。\n",
    "3. `python` 中如何使用<br>\n",
    "应用示例："
   ]
  },
  {
   "cell_type": "code",
   "execution_count": 4,
   "metadata": {},
   "outputs": [
    {
     "name": "stdout",
     "output_type": "stream",
     "text": [
      "MainThread\n",
      "Thread-6\n",
      "0\n",
      "1\n",
      "2\n"
     ]
    }
   ],
   "source": [
    "import threading\n",
    "\n",
    "def test():\n",
    "    print(threading.currentThread().getName())  # 子线程\n",
    "    for i in range(3):\n",
    "        print(i)\n",
    "\n",
    "print(threading.currentThread().getName())  # 主线程 \n",
    "thread_1 = threading.Thread(target=test)\n",
    "thread_1.start()\n",
    "thread_1.join()"
   ]
  },
  {
   "cell_type": "markdown",
   "metadata": {},
   "source": [
    "<font face=\"Courier New\">\n",
    "\n",
    "### 什么是协程 ?\n",
    "1. 概念<br>\n",
    "协程可以认为是一种用户态的线程，与系统提供的线程不同点是，它需要主动让出CPU时间，而不是由系统进行调度，即控制权在程序员手上。\n",
    "\n",
    "2. 状态<br>\n",
    "创建，挂起，唤醒，死亡。\n",
    "\n",
    "3. 编程简单实现<br>\n",
    "应用示例代码："
   ]
  },
  {
   "cell_type": "code",
   "execution_count": 6,
   "metadata": {},
   "outputs": [
    {
     "name": "stdout",
     "output_type": "stream",
     "text": [
      "1\n",
      "2\n",
      "3\n"
     ]
    }
   ],
   "source": [
    "def simple_generator_func():\n",
    "    yield 1\n",
    "    yield 2\n",
    "    yield 3\n",
    "    \n",
    "gen = simple_generator_func()\n",
    "for value in gen:\n",
    "    print(value)"
   ]
  },
  {
   "cell_type": "markdown",
   "metadata": {},
   "source": [
    "<font face=\"Courier New\">\n",
    "\n",
    "### 三者区别与联系\n",
    "\n",
    "1. 进程可以包含多线程；\n",
    "2. 线程里可包含多个协程；\n",
    "3. 优缺点：\n",
    " - 进程创建销毁成本高；\n",
    " - 线程开销比进程低，但切换成本高，线程间同步变成复杂；\n",
    " - 协程不陷入内核的情况进行上下文切换，没有同步问题，但需要手动切换。"
   ]
  },
  {
   "cell_type": "markdown",
   "metadata": {},
   "source": [
    "同步异步与阻塞，非阻塞区别\n",
    "1. 阻塞/非阻塞, 它们是程序在等待消息(无所谓同步或者异步)时的状态；\n",
    "2. 同步/异步，是程序获得关注消息通知的机制。"
   ]
  },
  {
   "cell_type": "code",
   "execution_count": null,
   "metadata": {},
   "outputs": [],
   "source": []
  }
 ],
 "metadata": {
  "kernelspec": {
   "display_name": "Python 3",
   "language": "python",
   "name": "python3"
  },
  "language_info": {
   "codemirror_mode": {
    "name": "ipython",
    "version": 3
   },
   "file_extension": ".py",
   "mimetype": "text/x-python",
   "name": "python",
   "nbconvert_exporter": "python",
   "pygments_lexer": "ipython3",
   "version": "3.6.5"
  }
 },
 "nbformat": 4,
 "nbformat_minor": 2
}
