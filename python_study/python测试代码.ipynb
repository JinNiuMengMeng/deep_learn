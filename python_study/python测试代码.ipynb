{
 "cells": [
  {
   "cell_type": "markdown",
   "metadata": {},
   "source": [
    "## 一、根据已经排序好的`list`, 重复的元素最多出现两次`nums = [1, 1, 1, 2, 2, 3]`"
   ]
  },
  {
   "cell_type": "markdown",
   "metadata": {},
   "source": [
    "方法一:"
   ]
  },
  {
   "cell_type": "code",
   "execution_count": 30,
   "metadata": {
    "scrolled": true
   },
   "outputs": [
    {
     "name": "stdout",
     "output_type": "stream",
     "text": [
      "[1, 1, 2, 2, 3, 4, 4]\n"
     ]
    }
   ],
   "source": [
    "nums = [1, 1, 1, 2, 2, 3, 4, 4, 4]\n",
    "set_nums = set(nums)\n",
    "new_nums = []\n",
    "for i in set_nums:\n",
    "    if nums.count(i) >= 2:\n",
    "        new_nums.append(i)\n",
    "        new_nums.append(i)\n",
    "    else:\n",
    "        new_nums.append(i)\n",
    "print(new_nums)"
   ]
  },
  {
   "cell_type": "markdown",
   "metadata": {},
   "source": [
    "方法二:"
   ]
  },
  {
   "cell_type": "code",
   "execution_count": 1,
   "metadata": {},
   "outputs": [
    {
     "name": "stdout",
     "output_type": "stream",
     "text": [
      "[1, 1, 2, 2, 3, 3, 4, 4]\n"
     ]
    }
   ],
   "source": [
    "nums = [1, 1, 1, 2, 2, 2, 3, 3, 4, 4, 4, 4, 4]\n",
    "set_nums = (nums)\n",
    "for i in set_nums:\n",
    "    if nums.count(i) > 2:\n",
    "        nums.remove(i)\n",
    "print(nums)"
   ]
  },
  {
   "cell_type": "markdown",
   "metadata": {},
   "source": [
    "## 二 查找`python`模块的安装路径"
   ]
  },
  {
   "cell_type": "markdown",
   "metadata": {},
   "source": [
    "示例: 查找`spacy`模块安装路径\n",
    "```\n",
    "python -c \"import os; import spacy; print(os.path.dirname(spacy.__file__))\"\n",
    "结果:\n",
    "/usr/local/lib/python2.7/dist-packages/spacy\n",
    "```"
   ]
  },
  {
   "cell_type": "code",
   "execution_count": null,
   "metadata": {},
   "outputs": [],
   "source": []
  }
 ],
 "metadata": {
  "kernelspec": {
   "display_name": "Python 3",
   "language": "python",
   "name": "python3"
  },
  "language_info": {
   "codemirror_mode": {
    "name": "ipython",
    "version": 3
   },
   "file_extension": ".py",
   "mimetype": "text/x-python",
   "name": "python",
   "nbconvert_exporter": "python",
   "pygments_lexer": "ipython3",
   "version": "3.6.7"
  }
 },
 "nbformat": 4,
 "nbformat_minor": 2
}
