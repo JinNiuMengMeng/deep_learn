{
 "cells": [
  {
   "cell_type": "markdown",
   "metadata": {},
   "source": [
    "## 1.1 简单说明如何选择正确的 Python 版本"
   ]
  },
  {
   "cell_type": "markdown",
   "metadata": {},
   "source": [
    "在选择`Python`的时候,一定要先考虑清楚自己学习`Python`的目的是什么,打算做哪方面的开发,有哪些扩展库可用,这些扩展库最高支持哪个版本的`Python`,是`Python 2.x`还是`Python 3.x`,最高支持到`Python 2.7.6`还是`Python 2.7.9`。这些问题都确定以后,再做出自己的选择,这样才能事半功倍,而不至于把大量时间浪费在 Python 的反复安装和卸载上。同时还应该注意,当更新的`Python`版本推出之后,不要急于更新,而是应该等确定自己所必须使用的扩展库也推出了较新版本之后再进行更新。\n",
    "\n",
    "尽管如此,`Python 3`毕竟是大势所趋,如果您暂时还没想到要做什么行业领域的应用开发,或者仅仅是为了尝试一种新的、好玩的语言,那么请毫不犹豫地选择`Python 3.x`系列的最高版本(目前是`Python 3.4.3`)"
   ]
  },
  {
   "cell_type": "markdown",
   "metadata": {},
   "source": [
    "## 1.2 为什么说 Python 采用的是基于值的内存管理模式\n",
    "`Python`采用的是基于值的内存管理方式, 如果为不同变量赋值相同值, 则在内存中只有一份该值, 多个变量指向同一块内存地址, 例如下面的代码:"
   ]
  },
  {
   "cell_type": "markdown",
   "metadata": {},
   "source": [
    "给`x`与`y`设置相同的值, 查看他们的内存地址, **内存地址相同**"
   ]
  },
  {
   "cell_type": "code",
   "execution_count": 5,
   "metadata": {},
   "outputs": [
    {
     "name": "stdout",
     "output_type": "stream",
     "text": [
      "id(x): 94275082023744\n",
      "id(y): 94275082023744\n"
     ]
    }
   ],
   "source": [
    "x = 3\n",
    "y = 3\n",
    "print(\"id(x):\", id(x))\n",
    "print(\"id(y):\", id(y))"
   ]
  },
  {
   "cell_type": "markdown",
   "metadata": {},
   "source": [
    "更改`y`的值, 继续查看内存地址, 发现内存地址发生变化"
   ]
  },
  {
   "cell_type": "code",
   "execution_count": 6,
   "metadata": {},
   "outputs": [
    {
     "name": "stdout",
     "output_type": "stream",
     "text": [
      "id(y): 94275082023648\n"
     ]
    }
   ],
   "source": [
    "y = 0\n",
    "print(\"id(y):\", id(y))"
   ]
  },
  {
   "cell_type": "code",
   "execution_count": 7,
   "metadata": {},
   "outputs": [
    {
     "name": "stdout",
     "output_type": "stream",
     "text": [
      "True\n"
     ]
    }
   ],
   "source": [
    "x = [1, 2, 3, 1, 1, 2]\n",
    "print(id(x[0])==id(x[3])==id(x[4]))"
   ]
  },
  {
   "cell_type": "markdown",
   "metadata": {},
   "source": [
    "## 假设有一段英文，其中有单独的字母`I`误写为`i`，写程序进行纠正"
   ]
  },
  {
   "cell_type": "code",
   "execution_count": 3,
   "metadata": {},
   "outputs": [
    {
     "name": "stdout",
     "output_type": "stream",
     "text": [
      "I'm a teacher, howerver I'm a student also! I\n"
     ]
    }
   ],
   "source": [
    "import re\n",
    "\n",
    "string_test = \"I'm a teacher, howerver I'm a student also! i\"\n",
    "str_list = string_test.split(' ') \n",
    "\n",
    "for j in range(len(str_list)): \n",
    "    if str_list[j] == 'i': \n",
    "        str_list[j] = 'I' \n",
    "        string_test = ' '.join(str_list)\n",
    "print(string_test)"
   ]
  },
  {
   "cell_type": "markdown",
   "metadata": {},
   "source": [
    "## 编写程序，用户从键盘输入小于1000的整数，对其进行因式分解"
   ]
  },
  {
   "cell_type": "markdown",
   "metadata": {},
   "source": [
    "例如，10=2×5，60=2×2×3×5"
   ]
  },
  {
   "cell_type": "code",
   "execution_count": null,
   "metadata": {},
   "outputs": [],
   "source": [
    "x = input(\"Please input an integer less than 1000:\")\n",
    "x = eval(x)\n",
    "\n",
    "t = x\n",
    "i = 2\n",
    "result = []\n",
    "\n",
    "while True:\n",
    "    if t == 1:\n",
    "        break\n",
    "    if t % i == 0:\n",
    "        result.append(i)\n",
    "        t = t/i\n",
    "        print(\"t%i:\", t)\n",
    "    else:\n",
    "        i += 1\n",
    "        print(\"i+=1:\", i)\n",
    "print(x, '=', \"*\".join(map(str, result)))"
   ]
  }
 ],
 "metadata": {
  "kernelspec": {
   "display_name": "Python 3",
   "language": "python",
   "name": "python3"
  },
  "language_info": {
   "codemirror_mode": {
    "name": "ipython",
    "version": 3
   },
   "file_extension": ".py",
   "mimetype": "text/x-python",
   "name": "python",
   "nbconvert_exporter": "python",
   "pygments_lexer": "ipython3",
   "version": "3.6.6"
  }
 },
 "nbformat": 4,
 "nbformat_minor": 2
}
